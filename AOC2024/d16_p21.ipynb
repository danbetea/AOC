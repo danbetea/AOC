{
 "cells": [
  {
   "cell_type": "code",
   "execution_count": 113,
   "metadata": {},
   "outputs": [],
   "source": [
    "from functools import cache\n",
    "from queue import PriorityQueue as PQ\n",
    "\n",
    "\n",
    "import networkx as nx"
   ]
  },
  {
   "cell_type": "code",
   "execution_count": 66,
   "metadata": {},
   "outputs": [],
   "source": [
    "INPUT_TEST_ = \"\"\"###############\n",
    "#.......#....E#\n",
    "#.#.###.#.###.#\n",
    "#.....#.#...#.#\n",
    "#.###.#####.#.#\n",
    "#.#.#.......#.#\n",
    "#.#.#####.###.#\n",
    "#...........#.#\n",
    "###.#.#####.#.#\n",
    "#...#.....#.#.#\n",
    "#.#.#.###.#.#.#\n",
    "#.....#...#.#.#\n",
    "#.###.#.#.#.#.#\n",
    "#S..#.....#...#\n",
    "###############\"\"\"\n",
    "MAP_TEST = [list(s) for s in INPUT_TEST_.split('\\n')]\n",
    "\n",
    "INPUT_TEST_1_ = \"\"\"#################\n",
    "#...#...#...#..E#\n",
    "#.#.#.#.#.#.#.#.#\n",
    "#.#.#.#...#...#.#\n",
    "#.#.#.#.###.#.#.#\n",
    "#...#.#.#.....#.#\n",
    "#.#.#.#.#.#####.#\n",
    "#.#...#.#.#.....#\n",
    "#.#.#####.#.###.#\n",
    "#.#.#.......#...#\n",
    "#.#.###.#####.###\n",
    "#.#.#...#.....#.#\n",
    "#.#.#.#####.###.#\n",
    "#.#.#.........#.#\n",
    "#.#.#.#########.#\n",
    "#S#.............#\n",
    "#################\"\"\"\n",
    "MAP_TEST_1 = [list(s) for s in INPUT_TEST_1_.split('\\n')]\n",
    "\n",
    "with open('d16_in.txt', 'r') as f:\n",
    "    INPUT_ = f.read()\n",
    "MAP = [list(s) for s in INPUT_.split('\\n')]"
   ]
  },
  {
   "cell_type": "code",
   "execution_count": 97,
   "metadata": {},
   "outputs": [],
   "source": [
    "def get_start(map_):\n",
    "    for i in range(len(map_)):\n",
    "        for j in range(len(map_[0])):\n",
    "            if map_[i][j] == 'S':\n",
    "                return (i, j)\n",
    "    return (-1, -1)\n",
    "\n",
    "def get_end(map_):\n",
    "    for i in range(len(map_)):\n",
    "        for j in range(len(map_[0])):\n",
    "            if map_[i][j] == 'E':\n",
    "                return (i, j)\n",
    "    return (-1, -1)\n",
    "\n",
    "def get_nbh_cost(nb_t, map_):\n",
    "    v, d = nb_t\n",
    "    i, j = v\n",
    "    match d:\n",
    "        case '^':\n",
    "            nb_c = [((i-1, j), '^', 1), ((i, j), '>', 1000), ((i, j), '<', 1000)]\n",
    "        case 'v':\n",
    "            nb_c = [((i+1, j), 'v', 1), ((i, j), '>', 1000), ((i, j), '<', 1000)]\n",
    "        case '>':\n",
    "            nb_c = [((i, j+1), '>', 1), ((i, j), '^', 1000), ((i, j), 'v', 1000)]\n",
    "        case '<':\n",
    "            nb_c = [((i, j-1), '<', 1), ((i, j), '^', 1000), ((i, j), 'v', 1000)]\n",
    "    return [\n",
    "        nb for nb in nb_c\n",
    "        if map_[nb[0][0]][nb[0][1]] != '#'\n",
    "    ]"
   ]
  },
  {
   "cell_type": "markdown",
   "metadata": {},
   "source": [
    "Part 1"
   ]
  },
  {
   "cell_type": "code",
   "execution_count": 98,
   "metadata": {},
   "outputs": [],
   "source": [
    "BIG_NUM = (1 << 31) -1"
   ]
  },
  {
   "cell_type": "code",
   "execution_count": 94,
   "metadata": {},
   "outputs": [],
   "source": [
    "def dij(map_):\n",
    "\n",
    "    dist = {((i, j), d): BIG_NUM\n",
    "        for i in range(1, len(map_)-1)\n",
    "        for j in range(1, len(map_[0])-1)\n",
    "        for d in \"^v><\"}\n",
    "    pred = {((i, j), d): None\n",
    "        for i in range(1, len(map_)-1)\n",
    "        for j in range(1, len(map_[0])-1)\n",
    "        for d in \"^v><\"}\n",
    "\n",
    "    Q = PQ()\n",
    "    s_ = get_start(map_)\n",
    "    s = (s_, '>')\n",
    "    dist[s] = 0\n",
    "\n",
    "    Q.put((0, s))\n",
    "    for v in dist:\n",
    "        if v != s:\n",
    "            Q.put((BIG_NUM, v))\n",
    "\n",
    "    e_ = get_end(map_)\n",
    "    ends = [(e_, d) for d in '^v><']\n",
    "\n",
    "    mins = []\n",
    "    while not Q.empty():\n",
    "        dist_u, u = Q.get()\n",
    "        if u in ends:\n",
    "            mins.append((dist_u, u))\n",
    "        if len(mins) == 4:\n",
    "            break\n",
    "        for nb_t in get_nbh_cost(u, map_):\n",
    "            v, cost = (nb_t[0], nb_t[1]), nb_t[2]\n",
    "            alt = dist_u + cost\n",
    "            if alt < dist[v]:\n",
    "                pred[v] = u\n",
    "                dist[v] = alt\n",
    "                Q.put((alt, v))\n",
    "    return mins, pred, dist"
   ]
  },
  {
   "cell_type": "code",
   "execution_count": 109,
   "metadata": {},
   "outputs": [
    {
     "data": {
      "text/plain": [
       "[(7036, ((1, 13), '^')),\n",
       " (8036, ((1, 13), '<')),\n",
       " (8036, ((1, 13), '>')),\n",
       " (9036, ((1, 13), 'v'))]"
      ]
     },
     "execution_count": 109,
     "metadata": {},
     "output_type": "execute_result"
    }
   ],
   "source": [
    "map_ = MAP_TEST\n",
    "\n",
    "mins=[]\n",
    "mins, pred, dist = dij(map_)\n",
    "mins"
   ]
  },
  {
   "cell_type": "markdown",
   "metadata": {},
   "source": [
    "Part 2"
   ]
  },
  {
   "cell_type": "code",
   "execution_count": null,
   "metadata": {},
   "outputs": [],
   "source": []
  },
  {
   "cell_type": "code",
   "execution_count": 112,
   "metadata": {},
   "outputs": [
    {
     "ename": "NameError",
     "evalue": "name 'cache' is not defined",
     "output_type": "error",
     "traceback": [
      "\u001b[1;31m---------------------------------------------------------------------------\u001b[0m",
      "\u001b[1;31mNameError\u001b[0m                                 Traceback (most recent call last)",
      "Cell \u001b[1;32mIn[112], line 5\u001b[0m\n\u001b[0;32m      2\u001b[0m \u001b[38;5;28;01mfor\u001b[39;00m k, v \u001b[38;5;129;01min\u001b[39;00m pred\u001b[38;5;241m.\u001b[39mitems():\n\u001b[0;32m      3\u001b[0m     fwd[v]\u001b[38;5;241m.\u001b[39mappend(k)\n\u001b[1;32m----> 5\u001b[0m \u001b[38;5;129m@cache\u001b[39m\n\u001b[0;32m      6\u001b[0m \u001b[38;5;28;01mdef\u001b[39;00m \u001b[38;5;21mcount\u001b[39m(curr, end):\n\u001b[0;32m      7\u001b[0m     \u001b[38;5;28;01mif\u001b[39;00m curr \u001b[38;5;241m==\u001b[39m end:\n\u001b[0;32m      8\u001b[0m         \u001b[38;5;28;01mreturn\u001b[39;00m \u001b[38;5;241m1\u001b[39m\n",
      "\u001b[1;31mNameError\u001b[0m: name 'cache' is not defined"
     ]
    }
   ],
   "source": [
    "fwd = {p: [] for p in pred.values()}\n",
    "for k, v in pred.items():\n",
    "    fwd[v].append(k)\n",
    "\n",
    "@cache\n",
    "def count(curr, end):\n",
    "    if curr == end:\n",
    "        return 1\n",
    "    if not fwd[curr]:\n",
    "        return 0\n",
    "    total = 0\n",
    "    for n in fwd[curr]:\n",
    "        total += count(n, end)\n",
    "    return total"
   ]
  },
  {
   "cell_type": "code",
   "execution_count": 110,
   "metadata": {},
   "outputs": [
    {
     "data": {
      "text/plain": [
       "3072"
      ]
     },
     "execution_count": 110,
     "metadata": {},
     "output_type": "execute_result"
    }
   ],
   "source": [
    "G = nx.Graph()\n",
    "\n",
    "st_ = get_start(map_)\n",
    "start = (st_, '>')\n",
    "\n",
    "end = min(mins)[1]\n",
    "\n",
    "for i in range(1, len(map_)-1):\n",
    "    for j in range(1, len(map_[0])-1):\n",
    "        for d in \"><^v\":\n",
    "            u = ((i, j), d)\n",
    "            for tup in get_nbh_cost(u, map_):\n",
    "                v = (tup[0], tup[1])\n",
    "                weight = tup[2]\n",
    "                G.add_edge(u, v, weight=weight)\n",
    "\n",
    "count = 0\n",
    "for p in nx.all_shortest_paths(G, source=start, target=end, weight=weight):\n",
    "    count += 1\n",
    "count"
   ]
  },
  {
   "cell_type": "code",
   "execution_count": null,
   "metadata": {},
   "outputs": [],
   "source": []
  }
 ],
 "metadata": {
  "kernelspec": {
   "display_name": "data_venv",
   "language": "python",
   "name": "python3"
  },
  "language_info": {
   "codemirror_mode": {
    "name": "ipython",
    "version": 3
   },
   "file_extension": ".py",
   "mimetype": "text/x-python",
   "name": "python",
   "nbconvert_exporter": "python",
   "pygments_lexer": "ipython3",
   "version": "3.12.0"
  }
 },
 "nbformat": 4,
 "nbformat_minor": 2
}
