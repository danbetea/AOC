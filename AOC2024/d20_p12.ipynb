{
 "cells": [
  {
   "cell_type": "code",
   "execution_count": 5,
   "metadata": {},
   "outputs": [],
   "source": [
    "from copy import deepcopy\n",
    "\n",
    "\n",
    "import networkx as nx"
   ]
  },
  {
   "cell_type": "code",
   "execution_count": 14,
   "metadata": {},
   "outputs": [],
   "source": [
    "INPUT_TEST_ = \"\"\"###############\n",
    "#...#...#.....#\n",
    "#.#.#.#.#.###.#\n",
    "#S#...#.#.#...#\n",
    "#######.#.#.###\n",
    "#######.#.#...#\n",
    "#######.#.###.#\n",
    "###..E#...#...#\n",
    "###.#######.###\n",
    "#...###...#...#\n",
    "#.#####.#.###.#\n",
    "#.#...#.#.#...#\n",
    "#.#.#.#.#.#.###\n",
    "#...#...#...###\n",
    "###############\"\"\"\n",
    "INPUT_TEST = [list(p) for p in INPUT_TEST_.split('\\n')]\n",
    "\n",
    "with open('d20_in.txt', 'r') as f:\n",
    "    INPUT_ = f.read()\n",
    "INPUT= [list(p) for p in INPUT_.split('\\n')]"
   ]
  },
  {
   "cell_type": "code",
   "execution_count": 15,
   "metadata": {},
   "outputs": [],
   "source": [
    "DIRS = {\"^\": (-1, 0), \">\": (0, 1), \"v\": (1, 0), \"<\": (0, -1)}"
   ]
  },
  {
   "cell_type": "code",
   "execution_count": 60,
   "metadata": {},
   "outputs": [],
   "source": [
    "def get_start(map_):\n",
    "    for i in range(1, len(map_)-1):\n",
    "        for j in range(1, len(map_[0])-1):\n",
    "            if map_[i][j] == 'S':\n",
    "                return (i, j)\n",
    "    return (-1, -1)\n",
    "\n",
    "def get_end(map_):\n",
    "    for i in range(1, len(map_)-1):\n",
    "        for j in range(1, len(map_[0])-1):\n",
    "            if map_[i][j] == 'E':\n",
    "                return (i, j)\n",
    "    return (-1, -1)\n",
    "\n",
    "def in_bounds(v, map_):\n",
    "    i, j = v\n",
    "    return 1 <= i <= len(map_)-2 and 1 <= j <= len(map_[0])-2\n",
    "\n",
    "def get_nbhs(v, map_):\n",
    "    i, j = v\n",
    "    nbhs = [(i+di, j+dj) for (di, dj) in DIRS.values()]\n",
    "    return [\n",
    "        n for n in nbhs\n",
    "        if in_bounds(n, map_)\n",
    "        and map_[n[0]][n[1]] != '#'\n",
    "    ]\n",
    "\n",
    "def get_extra_nbhs(v, map_):\n",
    "    i, j = v\n",
    "    pairs = []\n",
    "    nbhs_1 = [(i+di, j+dj) \n",
    "              for (di, dj) in DIRS.values()\n",
    "              if in_bounds((i+di, j+dj), map_)\n",
    "              and map_[i+di][j+dj] == '#']\n",
    "    for n in nbhs_1:\n",
    "        ni, nj = n\n",
    "        pairs += [\n",
    "            (n, (ni+di, nj+dj))\n",
    "            for (di, dj) in DIRS.values()\n",
    "            if (ni+di, nj+dj) != (i, j)\n",
    "            and map_[ni+di][nj+dj] in 'SE.'\n",
    "        ]\n",
    "    return set(pairs)\n",
    "\n",
    "def print_map(map_):\n",
    "    print(\"\\n\".join([\"\".join(line) for line in map_]))"
   ]
  },
  {
   "cell_type": "markdown",
   "metadata": {},
   "source": [
    "Part 1"
   ]
  },
  {
   "cell_type": "code",
   "execution_count": 69,
   "metadata": {},
   "outputs": [
    {
     "name": "stdout",
     "output_type": "stream",
     "text": [
      "Shortest path has edge length:  9372\n"
     ]
    }
   ],
   "source": [
    "map_ = deepcopy(INPUT)\n",
    "\n",
    "start, end = get_start(map_), get_end(map_)\n",
    "\n",
    "G = nx.DiGraph()\n",
    "\n",
    "for i in range(len(map_)):\n",
    "    for j in range(len(map_[0])):\n",
    "        if map_[i][j] in 'SE.':\n",
    "            u = (i, j)\n",
    "            for v in get_nbhs(u, map_):\n",
    "                G.add_edge(u, v)\n",
    "\n",
    "sp = nx.shortest_path(G, source=start, target=end)\n",
    "max_len = len(sp)-1\n",
    "\n",
    "print(\"Shortest path has edge length: \", max_len)"
   ]
  },
  {
   "cell_type": "code",
   "execution_count": null,
   "metadata": {},
   "outputs": [],
   "source": [
    "cheats_dict = {i: set() for i in range(max_len+1)}\n",
    "\n",
    "for idx, p in enumerate(sp):\n",
    "    \n",
    "    for u, v in get_extra_nbhs(p, map_):\n",
    "        edges_added = []\n",
    "        # mutate graph\n",
    "        if not G.has_edge(p, u):\n",
    "            G.add_edge(p, u)\n",
    "            edges_added.append((p, u))\n",
    "        if not G.has_edge(u, v):\n",
    "            G.add_edge(u, v)\n",
    "            edges_added.append((u, v))\n",
    "        for w in get_nbhs(v, map_):\n",
    "            if w != u and not G.has_edge(v, w):\n",
    "                G.add_edge(v, w)\n",
    "                edges_added.append((v, w))\n",
    "        # so far we have a new copy of the graph\n",
    "\n",
    "        sp_new = nx.shortest_path(G, source=start, target=end)\n",
    "        max_len_new = len(sp_new)-1\n",
    "        cheats_dict[max_len_new].add((u, v))\n",
    "\n",
    "        # undo the edges\n",
    "        for u, v in edges_added:\n",
    "            G.remove_edge(u, v)"
   ]
  },
  {
   "cell_type": "code",
   "execution_count": null,
   "metadata": {},
   "outputs": [],
   "source": [
    "NUM_SAVE = 100\n",
    "\n",
    "count = 0\n",
    "for k, v in cheats_dict.items():\n",
    "    # if v and max_len - k == 64:\n",
    "    if v and max_len - k >= NUM_SAVE:\n",
    "        count += len(v)\n",
    "count"
   ]
  },
  {
   "cell_type": "markdown",
   "metadata": {},
   "source": [
    "Part 2"
   ]
  },
  {
   "cell_type": "code",
   "execution_count": null,
   "metadata": {},
   "outputs": [],
   "source": []
  }
 ],
 "metadata": {
  "kernelspec": {
   "display_name": "data_venv",
   "language": "python",
   "name": "python3"
  },
  "language_info": {
   "codemirror_mode": {
    "name": "ipython",
    "version": 3
   },
   "file_extension": ".py",
   "mimetype": "text/x-python",
   "name": "python",
   "nbconvert_exporter": "python",
   "pygments_lexer": "ipython3",
   "version": "3.12.0"
  }
 },
 "nbformat": 4,
 "nbformat_minor": 2
}
