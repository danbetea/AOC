{
 "cells": [
  {
   "cell_type": "code",
   "execution_count": 12,
   "metadata": {},
   "outputs": [],
   "source": [
    "import numpy as np"
   ]
  },
  {
   "cell_type": "code",
   "execution_count": 9,
   "metadata": {},
   "outputs": [],
   "source": [
    "with open('d25_in.txt', 'r') as f:\n",
    "    INPUT_ = f.read()\n",
    "INPUT = INPUT_.split('\\n\\n')\n",
    "INPUT_LST = [[list(s) for s in grid.split('\\n')] for grid in INPUT]\n",
    "INPUT_NP = [np.array(in_) for in_ in INPUT_LST]"
   ]
  },
  {
   "cell_type": "code",
   "execution_count": 40,
   "metadata": {},
   "outputs": [],
   "source": [
    "locks, keys = [], []\n",
    "for g in INPUT_NP:\n",
    "    if np.all((g == '#')[0, :]):\n",
    "        locks.append(g)\n",
    "    elif np.all((g == '.')[0, :]):\n",
    "        keys.append(g)\n",
    "    else:\n",
    "        raise ValueError(\"neither key nor lock\")\n",
    "\n",
    "locks_hts, keys_hts = [], []\n",
    "for l in locks:\n",
    "    locks_hts.append(np.argmin(l == '#', axis=0)-1)\n",
    "for k in keys:\n",
    "    keys_hts.append(6-np.argmin(k == '.', axis=0))"
   ]
  },
  {
   "cell_type": "markdown",
   "metadata": {},
   "source": [
    "Parts 1 and 2"
   ]
  },
  {
   "cell_type": "code",
   "execution_count": 44,
   "metadata": {},
   "outputs": [
    {
     "data": {
      "text/plain": [
       "2900"
      ]
     },
     "execution_count": 44,
     "metadata": {},
     "output_type": "execute_result"
    }
   ],
   "source": [
    "count = 0\n",
    "for kh in keys_hts:\n",
    "    for lh in locks_hts:\n",
    "        if np.all(kh + lh <= 5):\n",
    "            count += 1\n",
    "count"
   ]
  }
 ],
 "metadata": {
  "kernelspec": {
   "display_name": "data_venv",
   "language": "python",
   "name": "python3"
  },
  "language_info": {
   "codemirror_mode": {
    "name": "ipython",
    "version": 3
   },
   "file_extension": ".py",
   "mimetype": "text/x-python",
   "name": "python",
   "nbconvert_exporter": "python",
   "pygments_lexer": "ipython3",
   "version": "3.12.0"
  }
 },
 "nbformat": 4,
 "nbformat_minor": 2
}
