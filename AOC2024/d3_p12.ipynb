{
 "cells": [
  {
   "cell_type": "code",
   "execution_count": 1,
   "metadata": {},
   "outputs": [],
   "source": [
    "import re"
   ]
  },
  {
   "cell_type": "code",
   "execution_count": 18,
   "metadata": {},
   "outputs": [],
   "source": [
    "test_in = \"\"\"xmul(2,4)%&mul[3,7]!@^do_not_mul(5,5)+mul(32,64]then(mul(11,8)mul(8,5))\"\"\"\n",
    "test_in_p2 = \"\"\"xmul(2,4)&mul[3,7]!^don't()_mul(5,5)+mul(32,64](mul(11,8)undo()?mul(8,5))\"\"\"\n",
    "\n",
    "with open('d3_in.txt', 'r') as f:\n",
    "    input_txt_ = f.readlines()\n",
    "    input_txt = ''.join(input_txt_)"
   ]
  },
  {
   "cell_type": "markdown",
   "metadata": {},
   "source": [
    "Part 1"
   ]
  },
  {
   "cell_type": "code",
   "execution_count": 19,
   "metadata": {},
   "outputs": [],
   "source": [
    "regx_1_str = r'mul\\(\\d{1,3}+,\\d{1,3}+\\)'\n",
    "regx_1 = re.compile(regx_1_str)\n",
    "\n",
    "regx_split_str = r\"do\\(\\)|don't\\(\\)\"\n",
    "regx_split = re.compile(regx_split_str)"
   ]
  },
  {
   "cell_type": "code",
   "execution_count": 14,
   "metadata": {},
   "outputs": [],
   "source": [
    "def strip_and_compute(lst: list[str]):\n",
    "    total = 0\n",
    "    for x in lst:\n",
    "        y1, y2 = x.lstrip('mul(').rstrip(')').split(',')\n",
    "        total += int(y1)*int(y2)\n",
    "    return total"
   ]
  },
  {
   "cell_type": "markdown",
   "metadata": {},
   "source": [
    "Part 1"
   ]
  },
  {
   "cell_type": "code",
   "execution_count": 15,
   "metadata": {},
   "outputs": [
    {
     "data": {
      "text/plain": [
       "161"
      ]
     },
     "execution_count": 15,
     "metadata": {},
     "output_type": "execute_result"
    }
   ],
   "source": [
    "test_lst = re.findall(regx_1, test_in)\n",
    "strip_and_compute(test_lst)"
   ]
  },
  {
   "cell_type": "code",
   "execution_count": 17,
   "metadata": {},
   "outputs": [
    {
     "data": {
      "text/plain": [
       "184511516"
      ]
     },
     "execution_count": 17,
     "metadata": {},
     "output_type": "execute_result"
    }
   ],
   "source": [
    "lst_1 = re.findall(regx_1, input_txt)\n",
    "strip_and_compute(lst_1)"
   ]
  },
  {
   "cell_type": "markdown",
   "metadata": {},
   "source": [
    "Part 2"
   ]
  },
  {
   "cell_type": "code",
   "execution_count": 25,
   "metadata": {},
   "outputs": [
    {
     "data": {
      "text/plain": [
       "['xmul(2,4)&mul[3,7]!^', '_mul(5,5)+mul(32,64](mul(11,8)undo()?mul(8,5))']"
      ]
     },
     "execution_count": 25,
     "metadata": {},
     "output_type": "execute_result"
    }
   ],
   "source": [
    "test_in_p2.split(\"don't()\")"
   ]
  },
  {
   "cell_type": "code",
   "execution_count": null,
   "metadata": {},
   "outputs": [
    {
     "data": {
      "text/plain": [
       "90044227"
      ]
     },
     "execution_count": 33,
     "metadata": {},
     "output_type": "execute_result"
    }
   ],
   "source": [
    "dont_lst = input_txt.split(\"don't()\")\n",
    "\n",
    "total = 0\n",
    "for i in range(len(dont_lst)):\n",
    "    string = dont_lst[i]\n",
    "    if i == 0:\n",
    "        total += strip_and_compute(\n",
    "            re.findall(regx_1, string)\n",
    "        )\n",
    "    else:\n",
    "        do_lst = string.split(\"do()\")\n",
    "        do_str = ''.join(do_lst[1:])\n",
    "        lst_mul = re.findall(regx_1, do_str)\n",
    "        total += strip_and_compute(lst_mul)\n",
    "total"
   ]
  },
  {
   "cell_type": "code",
   "execution_count": null,
   "metadata": {},
   "outputs": [],
   "source": []
  }
 ],
 "metadata": {
  "kernelspec": {
   "display_name": "data_venv",
   "language": "python",
   "name": "python3"
  },
  "language_info": {
   "codemirror_mode": {
    "name": "ipython",
    "version": 3
   },
   "file_extension": ".py",
   "mimetype": "text/x-python",
   "name": "python",
   "nbconvert_exporter": "python",
   "pygments_lexer": "ipython3",
   "version": "3.12.0"
  }
 },
 "nbformat": 4,
 "nbformat_minor": 2
}
