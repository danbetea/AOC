{
 "cells": [
  {
   "cell_type": "code",
   "execution_count": 82,
   "metadata": {},
   "outputs": [],
   "source": [
    "from collections import Counter\n",
    "from collections.abc import Callable\n",
    "import io\n",
    "\n",
    "\n",
    "import numpy as np"
   ]
  },
  {
   "cell_type": "code",
   "execution_count": 2,
   "metadata": {},
   "outputs": [],
   "source": [
    "test_in = \"\"\"7 6 4 2 1\n",
    "1 2 7 8 9\n",
    "9 7 6 2 1\n",
    "1 3 2 4 5\n",
    "8 6 4 4 1\n",
    "1 3 6 7 9\"\"\""
   ]
  },
  {
   "cell_type": "markdown",
   "metadata": {},
   "source": [
    "Part 1"
   ]
  },
  {
   "cell_type": "code",
   "execution_count": 34,
   "metadata": {},
   "outputs": [],
   "source": [
    "with open('d2_in.txt', 'r') as f:\n",
    "    lines = f.readlines()\n",
    "\n",
    "test_lines = test_in.split('\\n')"
   ]
  },
  {
   "cell_type": "code",
   "execution_count": 83,
   "metadata": {},
   "outputs": [],
   "source": [
    "def is_safe(arr: np.ndarray):\n",
    "    f_diff = np.diff(arr)\n",
    "    is_inc = (\n",
    "        bool(np.all(f_diff >= 1))\n",
    "        and bool(np.all(f_diff <= 3))\n",
    "    )\n",
    "    r_diff = arr[:-1] - arr[1:]\n",
    "    is_dec = (\n",
    "        bool(np.all(r_diff >= 1))\n",
    "        and bool(np.all(r_diff <= 3))\n",
    "    )\n",
    "    is_monotone = is_inc or is_dec\n",
    "    return is_monotone\n",
    "\n",
    "def _is_safe_at_level(arr: np.ndarray, i: str) -> bool:\n",
    "    new_arr = np.delete(arr, i)\n",
    "    return is_safe(new_arr)\n",
    "\n",
    "def is_safe_any_level(arr):\n",
    "    if is_safe(arr):\n",
    "        return True\n",
    "    for j in range(arr.shape[0]):\n",
    "        if _is_safe_at_level(arr, j):\n",
    "            return True\n",
    "    return False\n",
    "\n",
    "def count_safe(lines: list[str], safe_fn: Callable = is_safe):\n",
    "    count_safe = 0\n",
    "    for i in range(len(lines)):\n",
    "        lst = list(map(int, lines[i].rstrip('\\n').split(' ')))\n",
    "        arr = np.array(lst) \n",
    "        if safe_fn(arr):\n",
    "            count_safe += 1\n",
    "    return count_safe"
   ]
  },
  {
   "cell_type": "markdown",
   "metadata": {},
   "source": [
    "Part 1"
   ]
  },
  {
   "cell_type": "code",
   "execution_count": 84,
   "metadata": {},
   "outputs": [
    {
     "data": {
      "text/plain": [
       "334"
      ]
     },
     "execution_count": 84,
     "metadata": {},
     "output_type": "execute_result"
    }
   ],
   "source": [
    "count_safe(lines)"
   ]
  },
  {
   "cell_type": "markdown",
   "metadata": {},
   "source": [
    "Part 2"
   ]
  },
  {
   "cell_type": "code",
   "execution_count": 85,
   "metadata": {},
   "outputs": [
    {
     "data": {
      "text/plain": [
       "400"
      ]
     },
     "execution_count": 85,
     "metadata": {},
     "output_type": "execute_result"
    }
   ],
   "source": [
    "count_safe(lines, safe_fn=is_safe_any_level)"
   ]
  }
 ],
 "metadata": {
  "kernelspec": {
   "display_name": "data_venv",
   "language": "python",
   "name": "python3"
  },
  "language_info": {
   "codemirror_mode": {
    "name": "ipython",
    "version": 3
   },
   "file_extension": ".py",
   "mimetype": "text/x-python",
   "name": "python",
   "nbconvert_exporter": "python",
   "pygments_lexer": "ipython3",
   "version": "3.12.0"
  }
 },
 "nbformat": 4,
 "nbformat_minor": 2
}
