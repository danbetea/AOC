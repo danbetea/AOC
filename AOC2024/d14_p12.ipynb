{
 "cells": [
  {
   "cell_type": "code",
   "execution_count": 110,
   "metadata": {},
   "outputs": [],
   "source": [
    "# from pathlib import Path\n",
    "\n",
    "\n",
    "import matplotlib.pyplot as plt\n",
    "import numpy as np\n",
    "# from PIL import Image"
   ]
  },
  {
   "cell_type": "code",
   "execution_count": 111,
   "metadata": {},
   "outputs": [],
   "source": [
    "%matplotlib inline"
   ]
  },
  {
   "cell_type": "code",
   "execution_count": 112,
   "metadata": {},
   "outputs": [],
   "source": [
    "INPUT_TEST_ = \"\"\"p=0,4 v=3,-3\n",
    "p=6,3 v=-1,-3\n",
    "p=10,3 v=-1,2\n",
    "p=2,0 v=2,-1\n",
    "p=0,0 v=1,3\n",
    "p=3,0 v=-2,-2\n",
    "p=7,6 v=-1,-3\n",
    "p=3,0 v=-1,-2\n",
    "p=9,3 v=2,3\n",
    "p=7,3 v=-1,2\n",
    "p=2,4 v=2,-3\n",
    "p=9,5 v=-3,-3\"\"\"\n",
    "INPUT_TEST_TMP_ = INPUT_TEST_.split('\\n')\n",
    "INPUT_TEST_TMP_ = [(s.split(' ')[0][2:], s.split(' ')[1][2:]) for s in INPUT_TEST_TMP_]\n",
    "INPUT_TEST = [\n",
    "    (\n",
    "        (int(s[0].split(',')[0]), int(s[0].split(',')[1])),\n",
    "        (int(s[1].split(',')[0]), int(s[1].split(',')[1]))\n",
    "    )\n",
    "    for s in INPUT_TEST_TMP_\n",
    "]\n",
    "with open('d14_in.txt', 'r') as f:\n",
    "    INPUT_ = f.read()\n",
    "INPUT_TMP_ = INPUT_.split('\\n')\n",
    "INPUT_TMP_ = [(s.split(' ')[0][2:], s.split(' ')[1][2:]) for s in INPUT_TMP_]\n",
    "INPUT = [\n",
    "    (\n",
    "        (int(s[0].split(',')[0]), int(s[0].split(',')[1])),\n",
    "        (int(s[1].split(',')[0]), int(s[1].split(',')[1]))\n",
    "    )\n",
    "    for s in INPUT_TMP_\n",
    "]\n",
    "\n",
    "DIMS_TEST = (11, 7)\n",
    "DIMS = (101, 103)"
   ]
  },
  {
   "cell_type": "markdown",
   "metadata": {},
   "source": [
    "Part 1"
   ]
  },
  {
   "cell_type": "code",
   "execution_count": 113,
   "metadata": {},
   "outputs": [],
   "source": [
    "def update_position(p, v, t, dims):\n",
    "    ncols, nrows = dims\n",
    "    px, py = p\n",
    "    vx, vy = v\n",
    "    qx = (px + t*vx) % ncols\n",
    "    qy = (py + t*vy) % nrows\n",
    "    return (qx, qy)\n",
    "\n",
    "def get_quad(p, dims):\n",
    "    px,  py = p\n",
    "    ncols, nrows = dims\n",
    "    if px < ncols//2 and py < nrows//2:\n",
    "        return 0\n",
    "    elif px < ncols//2 and py > nrows//2:\n",
    "        return 1\n",
    "    elif px > ncols//2 and py < nrows//2:\n",
    "        return 2\n",
    "    elif px > ncols//2 and py > nrows//2:\n",
    "        return 3\n",
    "    else:\n",
    "        return -1"
   ]
  },
  {
   "cell_type": "code",
   "execution_count": 114,
   "metadata": {},
   "outputs": [
    {
     "data": {
      "text/plain": [
       "225810288"
      ]
     },
     "execution_count": 114,
     "metadata": {},
     "output_type": "execute_result"
    }
   ],
   "source": [
    "# in_ = INPUT_TEST\n",
    "# dims = DIMS_TEST\n",
    "in_ = INPUT\n",
    "dims = DIMS\n",
    "\n",
    "time = 100\n",
    "\n",
    "quads = {k: 0 for k in range(-1, 4)}\n",
    "\n",
    "for p, v in in_:\n",
    "    new_p = update_position(p, v, time, dims)\n",
    "    quad = get_quad(new_p, dims)\n",
    "    quads[quad] += 1\n",
    "\n",
    "total = 1\n",
    "for i in range(4):\n",
    "    total *= quads[i]\n",
    "total"
   ]
  },
  {
   "cell_type": "markdown",
   "metadata": {},
   "source": [
    "Part 2"
   ]
  },
  {
   "cell_type": "code",
   "execution_count": 115,
   "metadata": {},
   "outputs": [],
   "source": [
    "def is_potential_tree(arr, offset=8, threshold=20):\n",
    "    nrows = arr.shape[0]\n",
    "    ncols = arr.shape[1]\n",
    "    for i in range(nrows // offset):\n",
    "        for j in range(ncols // offset):\n",
    "            sub_arr = arr[offset*i:offset*i+offset-1, offset*j:offset*j+offset-1]\n",
    "            if int(np.sum(sub_arr == 1)) > threshold:\n",
    "                return True\n",
    "    return False"
   ]
  },
  {
   "cell_type": "code",
   "execution_count": null,
   "metadata": {},
   "outputs": [],
   "source": [
    "in_ = INPUT\n",
    "dims = DIMS\n",
    "ncols, nrows = dims\n",
    "\n",
    "NUM_ITER = 10_000\n",
    "\n",
    "for t in range(1, NUM_ITER + 1):\n",
    "    arr = np.zeros((nrows, ncols), dtype=np.uint8)\n",
    "    for p, v in in_:\n",
    "        j, i = update_position(p, v, t, dims)\n",
    "        arr[i, j] = 1\n",
    "    if is_potential_tree(arr):\n",
    "        print(f\"Potential tree at iteration {t}\")\n",
    "        img = plt.imshow(arr)\n",
    "        plt.show()\n",
    "        # filepath = Path.cwd() / 'img' / f'{t}.png'\n",
    "        # arr_2 = 255 * arr\n",
    "        # img = Image.fromarray(arr_2)\n",
    "        # img.save(filepath)"
   ]
  },
  {
   "cell_type": "code",
   "execution_count": null,
   "metadata": {},
   "outputs": [],
   "source": []
  }
 ],
 "metadata": {
  "kernelspec": {
   "display_name": "data_venv",
   "language": "python",
   "name": "python3"
  },
  "language_info": {
   "codemirror_mode": {
    "name": "ipython",
    "version": 3
   },
   "file_extension": ".py",
   "mimetype": "text/x-python",
   "name": "python",
   "nbconvert_exporter": "python",
   "pygments_lexer": "ipython3",
   "version": "3.12.0"
  }
 },
 "nbformat": 4,
 "nbformat_minor": 2
}
