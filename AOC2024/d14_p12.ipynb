{
 "cells": [
  {
   "cell_type": "code",
   "execution_count": null,
   "metadata": {},
   "outputs": [],
   "source": [
    "from pathlib import Path\n",
    "\n",
    "\n",
    "import numpy as np\n",
    "from PIL import Image as im"
   ]
  },
  {
   "cell_type": "code",
   "execution_count": 28,
   "metadata": {},
   "outputs": [],
   "source": [
    "INPUT_TEST_ = \"\"\"p=0,4 v=3,-3\n",
    "p=6,3 v=-1,-3\n",
    "p=10,3 v=-1,2\n",
    "p=2,0 v=2,-1\n",
    "p=0,0 v=1,3\n",
    "p=3,0 v=-2,-2\n",
    "p=7,6 v=-1,-3\n",
    "p=3,0 v=-1,-2\n",
    "p=9,3 v=2,3\n",
    "p=7,3 v=-1,2\n",
    "p=2,4 v=2,-3\n",
    "p=9,5 v=-3,-3\"\"\"\n",
    "INPUT_TEST_TMP_ = INPUT_TEST_.split('\\n')\n",
    "INPUT_TEST_TMP_ = [(s.split(' ')[0][2:], s.split(' ')[1][2:]) for s in INPUT_TEST_TMP_]\n",
    "INPUT_TEST = [\n",
    "    (\n",
    "        (int(s[0].split(',')[0]), int(s[0].split(',')[1])),\n",
    "        (int(s[1].split(',')[0]), int(s[1].split(',')[1]))\n",
    "    )\n",
    "    for s in INPUT_TEST_TMP_\n",
    "]\n",
    "with open('d14_in.txt', 'r') as f:\n",
    "    INPUT_ = f.read()\n",
    "INPUT_TMP_ = INPUT_.split('\\n')\n",
    "INPUT_TMP_ = [(s.split(' ')[0][2:], s.split(' ')[1][2:]) for s in INPUT_TMP_]\n",
    "INPUT = [\n",
    "    (\n",
    "        (int(s[0].split(',')[0]), int(s[0].split(',')[1])),\n",
    "        (int(s[1].split(',')[0]), int(s[1].split(',')[1]))\n",
    "    )\n",
    "    for s in INPUT_TMP_\n",
    "]\n",
    "\n",
    "DIMS_TEST = (11, 7)\n",
    "DIMS = (101, 103)"
   ]
  },
  {
   "cell_type": "markdown",
   "metadata": {},
   "source": [
    "Part 1"
   ]
  },
  {
   "cell_type": "code",
   "execution_count": null,
   "metadata": {},
   "outputs": [],
   "source": [
    "def update_position_inc(p, v, dims):\n",
    "    ncols, nrows = dims\n",
    "    pj, pi = p\n",
    "    vj, vi = v\n",
    "    qj = (pj+vj) % ncols\n",
    "    qi = (pi+vi) % nrows\n",
    "    return (qj, qi)\n",
    "\n",
    "def update_position(p, v, t, dims):\n",
    "    ncols, nrows = dims\n",
    "    pj, pi = p\n",
    "    vj, vi = v\n",
    "    qj = (pj+t*vj) % ncols\n",
    "    qi = (pi+t*vi) % nrows\n",
    "    return (qj, qi)\n",
    "\n",
    "def get_quad(p, dims):\n",
    "    pj,  pi = p\n",
    "    ncols, nrows = dims\n",
    "    if pj < ncols//2 and pi < nrows//2:\n",
    "        return 0\n",
    "    elif pj < ncols//2 and pi > nrows//2:\n",
    "        return 1\n",
    "    elif pj > ncols//2 and pi < nrows//2:\n",
    "        return 2\n",
    "    elif pj > ncols//2 and pi > nrows//2:\n",
    "        return 3\n",
    "    else:\n",
    "        return -1"
   ]
  },
  {
   "cell_type": "code",
   "execution_count": 30,
   "metadata": {},
   "outputs": [
    {
     "data": {
      "text/plain": [
       "225810288"
      ]
     },
     "execution_count": 30,
     "metadata": {},
     "output_type": "execute_result"
    }
   ],
   "source": [
    "# in_ = INPUT_TEST\n",
    "# dims = DIMS_TEST\n",
    "in_ = INPUT\n",
    "dims = DIMS\n",
    "\n",
    "time = 100\n",
    "\n",
    "quads = {k: 0 for k in range(-1, 4)}\n",
    "\n",
    "for p, v in in_:\n",
    "    new_p = update_position(p, v, time, dims)\n",
    "    quad = get_quad(new_p, dims)\n",
    "    quads[quad] += 1\n",
    "\n",
    "total = 1\n",
    "for i in range(4):\n",
    "    total *= quads[i]\n",
    "total"
   ]
  },
  {
   "cell_type": "markdown",
   "metadata": {},
   "source": [
    "Part 2"
   ]
  },
  {
   "cell_type": "code",
   "execution_count": 87,
   "metadata": {},
   "outputs": [],
   "source": [
    "def is_potential_tree(arr):\n",
    "    offset = 8\n",
    "    nrows = arr.shape[0]\n",
    "    ncols = arr.shape[1]\n",
    "    for i in range(nrows // offset):\n",
    "        for j in range(ncols // offset):\n",
    "            sub_arr = arr[offset*i:offset*i+offset, offset*j:offset*j+offset]\n",
    "            if int(np.sum(sub_arr == 1)) > 20:\n",
    "                return True\n",
    "    return False"
   ]
  },
  {
   "cell_type": "code",
   "execution_count": 91,
   "metadata": {},
   "outputs": [
    {
     "name": "stdout",
     "output_type": "stream",
     "text": [
      "Potential tree at time 3318\n",
      "Potential tree at time 5237\n",
      "Potential tree at time 5439\n",
      "Potential tree at time 5843\n",
      "Potential tree at time 6752\n",
      "Potential tree at time 9479\n",
      "Potential tree at time 9782\n"
     ]
    }
   ],
   "source": [
    "in_ = INPUT\n",
    "dims = DIMS\n",
    "ncols, nrows = dims\n",
    "\n",
    "t = 1\n",
    "while t < 10_000:\n",
    "    arr = np.zeros((nrows, ncols), dtype=np.uint8)\n",
    "    for p, v in in_:\n",
    "        j, i = update_position(p, v, t, dims)\n",
    "        arr[i, j] = 1\n",
    "    if is_potential_tree(arr):\n",
    "        print(f\"Potential tree at time {t}\")\n",
    "        filepath = Path.cwd() / 'img' / f'{t}.png'\n",
    "        arr_2 = 255 * arr\n",
    "        img = im.fromarray(arr_2)\n",
    "        img.save(filepath)\n",
    "    t += 1"
   ]
  },
  {
   "cell_type": "code",
   "execution_count": null,
   "metadata": {},
   "outputs": [],
   "source": []
  }
 ],
 "metadata": {
  "kernelspec": {
   "display_name": "data_venv",
   "language": "python",
   "name": "python3"
  },
  "language_info": {
   "codemirror_mode": {
    "name": "ipython",
    "version": 3
   },
   "file_extension": ".py",
   "mimetype": "text/x-python",
   "name": "python",
   "nbconvert_exporter": "python",
   "pygments_lexer": "ipython3",
   "version": "3.12.0"
  }
 },
 "nbformat": 4,
 "nbformat_minor": 2
}
