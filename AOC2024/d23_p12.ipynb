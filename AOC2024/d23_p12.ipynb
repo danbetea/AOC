{
 "cells": [
  {
   "cell_type": "code",
   "execution_count": 1,
   "metadata": {},
   "outputs": [],
   "source": [
    "from collections import Counter\n",
    "\n",
    "\n",
    "import networkx as nx"
   ]
  },
  {
   "cell_type": "code",
   "execution_count": 2,
   "metadata": {},
   "outputs": [],
   "source": [
    "INPUT_TEST_ = \"\"\"kh-tc\n",
    "qp-kh\n",
    "de-cg\n",
    "ka-co\n",
    "yn-aq\n",
    "qp-ub\n",
    "cg-tb\n",
    "vc-aq\n",
    "tb-ka\n",
    "wh-tc\n",
    "yn-cg\n",
    "kh-ub\n",
    "ta-co\n",
    "de-co\n",
    "tc-td\n",
    "tb-wq\n",
    "wh-td\n",
    "ta-ka\n",
    "td-qp\n",
    "aq-cg\n",
    "wq-ub\n",
    "ub-vc\n",
    "de-ta\n",
    "wq-aq\n",
    "wq-vc\n",
    "wh-yn\n",
    "ka-de\n",
    "kh-ta\n",
    "co-tc\n",
    "wh-qp\n",
    "tb-vc\n",
    "td-yn\"\"\"\n",
    "INPUT_TEST = [tuple(t.split('-')) for t in INPUT_TEST_.split(\"\\n\")]\n",
    "\n",
    "with open('d23_in.txt', 'r') as f:\n",
    "    INPUT_ = f.read()\n",
    "INPUT = [tuple(t.split('-')) for t in INPUT_.split(\"\\n\")]"
   ]
  },
  {
   "cell_type": "markdown",
   "metadata": {},
   "source": [
    "Part 1"
   ]
  },
  {
   "cell_type": "code",
   "execution_count": 3,
   "metadata": {},
   "outputs": [
    {
     "name": "stdout",
     "output_type": "stream",
     "text": [
      "1330\n"
     ]
    }
   ],
   "source": [
    "in_ = INPUT\n",
    "\n",
    "G = nx.Graph()\n",
    "\n",
    "for edge in in_:\n",
    "    G.add_edge(edge[0], edge[1])\n",
    "\n",
    "cliques = set()\n",
    "\n",
    "for w in G.nodes:\n",
    "    for e in G.edges:\n",
    "        u, v = e\n",
    "        if (\n",
    "            w not in e\n",
    "            and G.has_edge(w, u)\n",
    "            and G.has_edge(w, v)\n",
    "            and (\n",
    "                u.startswith('t')\n",
    "                or v.startswith('t')\n",
    "                or w.startswith('t')\n",
    "            )\n",
    "        ):\n",
    "            cliques.add(tuple(sorted([u, v, w])))\n",
    "\n",
    "print(len(cliques))"
   ]
  },
  {
   "cell_type": "markdown",
   "metadata": {},
   "source": [
    "Part 2"
   ]
  },
  {
   "cell_type": "code",
   "execution_count": 4,
   "metadata": {},
   "outputs": [
    {
     "name": "stdout",
     "output_type": "stream",
     "text": [
      "hl,io,ku,pk,ps,qq,sh,tx,ty,wq,xi,xj,yp\n"
     ]
    }
   ],
   "source": [
    "# simple use of networkx\n",
    "\n",
    "a = nx.max_weight_clique(G, weight=None)\n",
    "print(\",\".join(sorted(a[0])))"
   ]
  },
  {
   "cell_type": "code",
   "execution_count": 5,
   "metadata": {},
   "outputs": [],
   "source": [
    "# simple implementation of a maximal clique algorithm from Wikipedia\n",
    "#\n",
    "# note it finds all maximal cliques, i.e. which are locally maximal,\n",
    "# and not just the ones of maximum size. I. e. in the graph below\n",
    "# \n",
    "#        1---2----4--5\n",
    "#         \\ /     |\\/|\n",
    "#          3      |/\\|\n",
    "#                 7--6\n",
    "# \n",
    "# it would find {2, 4}, {1, 2, 3} and {4, 5, 6, 7}.\n",
    "#   \n",
    "# cf wikipedia page https://en.wikipedia.org/wiki/Bron%E2%80%93Kerbosch_algorithm\n",
    "# init: R, X = emptyset, P = vertex set of graph\n",
    "# algorithm BronKerbosch(R, P, X) is\n",
    "#     if P and X are both empty then\n",
    "#         report R as a maximal clique\n",
    "#     for each vertex v in P do\n",
    "#         BronKerbosch(R ⋃ {v}, P ⋂ N(v), X ⋂ N(v))\n",
    "#         P := P \\ {v}\n",
    "#         X := X ⋃ {v}\n",
    "\n",
    "R, X = set(), set()\n",
    "P = set(G.nodes)\n",
    "max_cliques = set()\n",
    "\n",
    "def BK(G, R, P, X, max_cliques):\n",
    "    if not P and not X:\n",
    "        # R is a maximal clique\n",
    "        # I want to look beyond triangles\n",
    "        # (we already know there are many triangle cliques)\n",
    "        if len(R) > 3:\n",
    "            max_cliques.add(tuple(sorted(list(R))))\n",
    "    for v in P:\n",
    "        BK(G, R | {v}, P & set(G[v]), X & set(G[v]), max_cliques)\n",
    "        P = P - {v}\n",
    "        X = X | {v}\n",
    "\n",
    "BK(G, R, P, X, max_cliques)"
   ]
  },
  {
   "cell_type": "code",
   "execution_count": 6,
   "metadata": {},
   "outputs": [
    {
     "data": {
      "text/plain": [
       "Counter({12: 78, 13: 1})"
      ]
     },
     "execution_count": 6,
     "metadata": {},
     "output_type": "execute_result"
    }
   ],
   "source": [
    "# print lengths of cliques found\n",
    "Counter(len(x) for x in max_cliques)"
   ]
  },
  {
   "cell_type": "code",
   "execution_count": 7,
   "metadata": {},
   "outputs": [
    {
     "name": "stdout",
     "output_type": "stream",
     "text": [
      "hl,io,ku,pk,ps,qq,sh,tx,ty,wq,xi,xj,yp\n"
     ]
    }
   ],
   "source": [
    "# only one maximum length one, print it\n",
    "print(\n",
    "    \",\".join([list(x) for x in max_cliques if len(x) == 13][0])\n",
    ")"
   ]
  }
 ],
 "metadata": {
  "kernelspec": {
   "display_name": "data_venv",
   "language": "python",
   "name": "python3"
  },
  "language_info": {
   "codemirror_mode": {
    "name": "ipython",
    "version": 3
   },
   "file_extension": ".py",
   "mimetype": "text/x-python",
   "name": "python",
   "nbconvert_exporter": "python",
   "pygments_lexer": "ipython3",
   "version": "3.12.0"
  }
 },
 "nbformat": 4,
 "nbformat_minor": 2
}
