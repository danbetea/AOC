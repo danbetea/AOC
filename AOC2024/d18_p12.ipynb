{
 "cells": [
  {
   "cell_type": "code",
   "execution_count": 1,
   "metadata": {},
   "outputs": [],
   "source": [
    "import networkx as nx"
   ]
  },
  {
   "cell_type": "code",
   "execution_count": 2,
   "metadata": {},
   "outputs": [],
   "source": [
    "INPUT_TEST_ = \"\"\"5,4\n",
    "4,2\n",
    "4,5\n",
    "3,0\n",
    "2,1\n",
    "6,3\n",
    "2,4\n",
    "1,5\n",
    "0,6\n",
    "3,3\n",
    "2,6\n",
    "5,1\n",
    "1,2\n",
    "5,5\n",
    "2,5\n",
    "6,5\n",
    "1,4\n",
    "0,4\n",
    "6,4\n",
    "1,1\n",
    "6,1\n",
    "1,0\n",
    "0,5\n",
    "1,6\n",
    "2,0\"\"\"\n",
    "INPUT_TEST_ = [tuple(p.split(',')) for p in INPUT_TEST_.split('\\n')]\n",
    "INPUT_TEST = [(int(p[1]), int(p[0])) for p in INPUT_TEST_]\n",
    "NUM_ROWS_TEST, NUM_COLS_TEST = 7, 7\n",
    "START_TEST, END_TEST = (0, 0), (NUM_ROWS_TEST-1, NUM_COLS_TEST-1)\n",
    "NUM_BYTES_TEST = 12\n",
    "\n",
    "with open('d18_in.txt', 'r') as f:\n",
    "    INPUT_ = f.read()\n",
    "INPUT_ = [tuple(p.split(',')) for p in INPUT_.split('\\n')]\n",
    "INPUT = [(int(p[1]), int(p[0])) for p in INPUT_]\n",
    "NUM_ROWS, NUM_COLS = 71, 71\n",
    "START, END = (0, 0), (NUM_ROWS-1, NUM_COLS-1)\n",
    "NUM_BYTES = 1024"
   ]
  },
  {
   "cell_type": "code",
   "execution_count": 3,
   "metadata": {},
   "outputs": [],
   "source": [
    "DIRS = {\"^\": (-1, 0), \">\": (0, 1), \"v\": (1, 0), \"<\": (0, -1)}"
   ]
  },
  {
   "cell_type": "code",
   "execution_count": 4,
   "metadata": {},
   "outputs": [],
   "source": [
    "def init_map(dims, init_pos, num):\n",
    "    num_rows, num_cols = dims\n",
    "    map_ = [['.' for j in range(num_cols)] for i in range(num_rows)]\n",
    "    for k in range(num):\n",
    "        i, j = init_pos[k]\n",
    "        map_[i][j] = '#'\n",
    "    return map_\n",
    "\n",
    "def print_map(map_):\n",
    "    print(\"\\n\".join([\"\".join(line) for line in map_]))"
   ]
  },
  {
   "cell_type": "code",
   "execution_count": 5,
   "metadata": {},
   "outputs": [],
   "source": [
    "def in_bounds(v, map_):\n",
    "    i, j = v\n",
    "    return 0 <= i <= len(map_)-1 and 0 <= j <= len(map_[0])-1\n",
    "\n",
    "def get_nbhs(v, map_):\n",
    "    i, j = v\n",
    "    nbhs = [(i+di, j+dj) for (di, dj) in DIRS.values()]\n",
    "    return [\n",
    "        n for n in nbhs\n",
    "        if in_bounds(n, map_)\n",
    "        and map_[n[0]][n[1]] != '#'\n",
    "    ]"
   ]
  },
  {
   "cell_type": "markdown",
   "metadata": {},
   "source": [
    "Part 1"
   ]
  },
  {
   "cell_type": "code",
   "execution_count": 6,
   "metadata": {},
   "outputs": [],
   "source": [
    "dims = (NUM_ROWS_TEST, NUM_COLS_TEST)\n",
    "num_bytes = NUM_BYTES_TEST\n",
    "init_pos = INPUT_TEST\n",
    "start = START_TEST\n",
    "end = END_TEST\n",
    "\n",
    "# dims = (NUM_ROWS, NUM_COLS)\n",
    "# num_bytes = NUM_BYTES\n",
    "# init_pos = INPUT\n",
    "# start = START\n",
    "# end = END\n",
    "\n",
    "map_ = init_map(dims, init_pos, num_bytes)"
   ]
  },
  {
   "cell_type": "code",
   "execution_count": 7,
   "metadata": {},
   "outputs": [
    {
     "data": {
      "text/plain": [
       "22"
      ]
     },
     "execution_count": 7,
     "metadata": {},
     "output_type": "execute_result"
    }
   ],
   "source": [
    "G = nx.Graph()\n",
    "\n",
    "for i in range(len(map_)):\n",
    "    for j in range(len(map_[0])):\n",
    "        if map_[i][j] == '.':\n",
    "            u = (i, j)\n",
    "            for v in get_nbhs(u, map_):\n",
    "                G.add_edge(u, v)\n",
    "p = nx.shortest_path(G, source=start, target=end)\n",
    "len(p)-1"
   ]
  },
  {
   "cell_type": "markdown",
   "metadata": {},
   "source": [
    "Part 2"
   ]
  },
  {
   "cell_type": "code",
   "execution_count": 13,
   "metadata": {},
   "outputs": [],
   "source": [
    "# dims = (NUM_ROWS_TEST, NUM_COLS_TEST)\n",
    "# num_bytes = NUM_BYTES_TEST\n",
    "# init_pos = INPUT_TEST\n",
    "# start = START_TEST\n",
    "# end = END_TEST\n",
    "\n",
    "dims = (NUM_ROWS, NUM_COLS)\n",
    "num_bytes = NUM_BYTES\n",
    "init_pos = INPUT\n",
    "start = START\n",
    "end = END\n",
    "\n",
    "map_ = init_map(dims, init_pos, num_bytes)"
   ]
  },
  {
   "cell_type": "code",
   "execution_count": 14,
   "metadata": {},
   "outputs": [
    {
     "name": "stdout",
     "output_type": "stream",
     "text": [
      "disconnecting vertex: 22,33\n"
     ]
    }
   ],
   "source": [
    "map_ = init_map(dims, init_pos, num_bytes)    \n",
    "\n",
    "G = nx.Graph()\n",
    "for i in range(len(map_)):\n",
    "    for j in range(len(map_[0])):\n",
    "        if map_[i][j] == '.':\n",
    "            u = (i, j)\n",
    "            for v in get_nbhs(u, map_):\n",
    "                G.add_edge(u, v)\n",
    "\n",
    "for num_pos in range(num_bytes, len(init_pos)):\n",
    "    new_v = init_pos[num_pos]\n",
    "    for new_w in get_nbhs(new_v, map_):\n",
    "        if G.has_edge(new_v, new_w):\n",
    "            G.remove_edge(new_v, new_w)\n",
    "    try:\n",
    "        p = nx.shortest_path(G, source=start, target=end)\n",
    "    except nx.NetworkXNoPath:\n",
    "        print(f\"disconnecting vertex: {new_v[1]},{new_v[0]}\")\n",
    "        break"
   ]
  },
  {
   "cell_type": "code",
   "execution_count": null,
   "metadata": {},
   "outputs": [],
   "source": []
  }
 ],
 "metadata": {
  "kernelspec": {
   "display_name": "gnn_venv",
   "language": "python",
   "name": "python3"
  },
  "language_info": {
   "codemirror_mode": {
    "name": "ipython",
    "version": 3
   },
   "file_extension": ".py",
   "mimetype": "text/x-python",
   "name": "python",
   "nbconvert_exporter": "python",
   "pygments_lexer": "ipython3",
   "version": "3.12.3"
  }
 },
 "nbformat": 4,
 "nbformat_minor": 2
}
