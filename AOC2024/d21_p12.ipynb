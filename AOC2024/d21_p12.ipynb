{
 "cells": [
  {
   "cell_type": "code",
   "execution_count": 1,
   "metadata": {},
   "outputs": [],
   "source": [
    "from functools import cache\n",
    "\n",
    "\n",
    "import networkx as nx"
   ]
  },
  {
   "cell_type": "code",
   "execution_count": null,
   "metadata": {},
   "outputs": [],
   "source": [
    "INPUT_TEST_ = \"\"\"029A\n",
    "980A\n",
    "179A\n",
    "456A\n",
    "379A\"\"\"\n",
    "INPUT_TEST = INPUT_TEST_.split('\\n')\n",
    "INPUT_TEST_N = [int(s.replace('A', '')) for s in INPUT_TEST]\n",
    "\n",
    "with open('d21_in.txt', 'r') as f:\n",
    "    INPUT_ = f.read()\n",
    "INPUT = INPUT_.split('\\n')\n",
    "INPUT_N = [int(s.replace('A', '')) for s in INPUT]"
   ]
  },
  {
   "cell_type": "code",
   "execution_count": 3,
   "metadata": {},
   "outputs": [],
   "source": [
    "GRID_N_ = \"\"\"789\n",
    "456\n",
    "123\n",
    ".0A\"\"\"\n",
    "GRID_N = tuple(tuple(s) for s in GRID_N_.split('\\n'))\n",
    "GRID_D_ = \"\"\".^A\n",
    "<v>\"\"\"\n",
    "GRID_D = tuple(tuple(s) for s in GRID_D_.split('\\n'))\n",
    "\n",
    "DIRS = {\"^\": (-1, 0), \">\": (0, 1), \"v\": (1, 0), \"<\": (0, -1)}\n",
    "\n",
    "NUM_KEYS = \"0123456789A\"\n",
    "DIR_KEYS = \"<>^vA\""
   ]
  },
  {
   "cell_type": "code",
   "execution_count": 4,
   "metadata": {},
   "outputs": [],
   "source": [
    "# The illustration at the following link is very\n",
    "# helpful for the recursion in part 2\n",
    "# https://www.reddit.com/r/adventofcode/comments/1hja685/2024_day_21_here_are_some_examples_and_hints_for/\n",
    "#\n",
    "# going bottom to top, each character mutates into a \n",
    "# longer string of characters at the upper level\n",
    "#\n",
    "# v<<A^>>AAv<A<A^>>AAvAA^<A>Av<A^>A<A>Av<A^>A<A>Av<<A>A^>AAvA^<A>A [human]\n",
    "#    <   AA  v <   AA >>  ^ A  v  A ^ A  v  A ^ A   < v  AA >  ^ A [robot 3]\n",
    "#        ^^        <<       A     >   A     >   A        vv      A [robot 2]\n",
    "#                           4         5         6                A [keypad robot]\n",
    "\n",
    "\n",
    "def in_bounds(v, map_):\n",
    "    i, j = v\n",
    "    return 0 <= i <= len(map_)-1 and 0 <= j <= len(map_[0])-1\n",
    "\n",
    "\n",
    "def get_nbhs(v, map_):\n",
    "    i, j = v\n",
    "    nbhs = [(i+DIRS[d][0], j+DIRS[d][1]) for d in DIRS]\n",
    "    return [\n",
    "        n for n in nbhs\n",
    "        if in_bounds(n, map_)\n",
    "        and map_[n[0]][n[1]] != '.'\n",
    "    ]\n",
    "\n",
    "\n",
    "def get_dir(v, w):\n",
    "    vi, vj = v\n",
    "    wi, wj = w\n",
    "    di, dj = wi-vi, wj-vj\n",
    "    for d in DIRS:\n",
    "        if DIRS[d] == (di, dj):\n",
    "            return d\n",
    "    return \"?\"\n",
    "\n",
    "\n",
    "def get_vertex(vlabel, map_):\n",
    "    for i in range(len(map_)):\n",
    "        for j in range(len(map_[0])):\n",
    "            if map_[i][j] == vlabel:\n",
    "                return (i, j)\n",
    "    return (1_000_000, 1_000_000)\n",
    "\n",
    "\n",
    "@cache\n",
    "def get_all_shortest_paths(ulabel, vlabel, G, type_='N'):\n",
    "    if type_ == 'N':  # numbers pad\n",
    "        u = get_vertex(ulabel, GRID_N)\n",
    "        v = get_vertex(vlabel, GRID_N)\n",
    "    elif type_ == 'D':  # directions pad\n",
    "        u = get_vertex(ulabel, GRID_D)\n",
    "        v = get_vertex(vlabel, GRID_D)\n",
    "    else:\n",
    "        raise ValueError(\"D or N\")\n",
    "    strings = ()\n",
    "    for path in nx.all_shortest_paths(G, u, v):\n",
    "        ds = \"\"\n",
    "        for i in range(len(path)-1):\n",
    "            s, t = path[i], path[i+1]\n",
    "            ds += get_dir(s, t)\n",
    "        strings += (ds+\"A\",)\n",
    "    return strings\n",
    "\n",
    "\n",
    "@cache\n",
    "def get_all_shortest_paths_code(code, G, type_):\n",
    "    strings = (\"\",)\n",
    "    code = \"A\"+code\n",
    "    for i in range(len(code)-1):\n",
    "        strings_i = ()\n",
    "        d1, d2 = code[i], code[i+1]\n",
    "        s_tmp = get_all_shortest_paths(d1, d2, G, type_)\n",
    "        for s1 in strings:\n",
    "            for s2 in s_tmp:\n",
    "                strings_i += (s1 + s2,)\n",
    "        strings = strings_i\n",
    "    return strings\n",
    "\n",
    "\n",
    "# use nx.DiGraph as a shortcut \n",
    "G_num = nx.DiGraph()\n",
    "for i in range(len(GRID_N)):\n",
    "    for j in range(len(GRID_N[0])):\n",
    "        u = (i, j)\n",
    "        if GRID_N[i][j] != '.':\n",
    "            for v in get_nbhs(u, GRID_N):\n",
    "                G_num.add_edge(u, v)\n",
    "G_dir = nx.DiGraph()\n",
    "for i in range(len(GRID_D)):\n",
    "    for j in range(len(GRID_D[0])):\n",
    "        u = (i, j)\n",
    "        if GRID_D[i][j] != '.':\n",
    "            for v in get_nbhs(u, GRID_D):\n",
    "                G_dir.add_edge(u, v)\n",
    "\n",
    "\n",
    "DIR_PAIRS = {s1+s2: get_all_shortest_paths(s1, s2, G_dir, 'D')\n",
    "             for s1 in DIR_KEYS\n",
    "             for s2 in DIR_KEYS}\n",
    "NUM_PAIRS = {s1+s2: get_all_shortest_paths(s1, s2, G_num, 'N')\n",
    "             for s1 in NUM_KEYS\n",
    "             for s2 in NUM_KEYS}\n",
    "\n",
    "\n",
    "@cache\n",
    "def len_after_mutation(s: str):\n",
    "    len_ = 0\n",
    "    s_ = \"A\"+s\n",
    "    for i in range(len(s_)-1):\n",
    "        st = s_[i:i+2]\n",
    "        len_ += len(DIR_PAIRS[st][0])\n",
    "    return len_\n",
    "\n",
    "\n",
    "@cache\n",
    "def mutate_code(code: str, type_: str = 'D') -> list[str]:\n",
    "    if type_ == 'D':\n",
    "        DICT = DIR_PAIRS\n",
    "    else:\n",
    "        DICT = NUM_PAIRS\n",
    "    strings = (\"\",)\n",
    "    code = \"A\"+code\n",
    "    for i in range(len(code)-1):\n",
    "        strings_i = ()\n",
    "        st = code[i:i+2]\n",
    "        s_tmp = DICT[st]\n",
    "        for s1 in strings:\n",
    "            for s2 in s_tmp:\n",
    "                strings_i += (s1 + s2,)\n",
    "        strings = strings_i\n",
    "    return strings\n",
    "\n",
    "\n",
    "@cache\n",
    "def len_rec_code_d(code: str, level, max_level) -> list[str]:\n",
    "\n",
    "    min_len = 0\n",
    "\n",
    "    if level == max_level:\n",
    "        code = \"A\"+code\n",
    "        for i in range(len(code)-1):\n",
    "            st = code[i:i+2]\n",
    "            s_tmp = DIR_PAIRS[st]\n",
    "            if len(s_tmp) == 1:\n",
    "                min_len += len(s_tmp[0])\n",
    "            else:\n",
    "                # s_tmp has two strings in it\n",
    "                min_len += min(len(s_tmp[0]), len(s_tmp[1]))\n",
    "        return min_len\n",
    "\n",
    "    code = \"A\"+code\n",
    "    for i in range(len(code)-1):\n",
    "        st = code[i:i+2]\n",
    "        s_tmp = DIR_PAIRS[st]\n",
    "        if len(s_tmp) == 1:\n",
    "            min_len += len_rec_code_d(s_tmp[0], level+1, max_level)\n",
    "        else:\n",
    "            # s_tmp has two strings in it\n",
    "            min_len += min(\n",
    "                len_rec_code_d(s_tmp[0], level+1, max_level), \n",
    "                len_rec_code_d(s_tmp[1], level+1, max_level),\n",
    "            )\n",
    "\n",
    "    return min_len"
   ]
  },
  {
   "cell_type": "code",
   "execution_count": 5,
   "metadata": {},
   "outputs": [
    {
     "name": "stdout",
     "output_type": "stream",
     "text": [
      "('^^<<A', '^<^<A', '<^^<A', '^<<^A', '<^<^A')\n",
      "('^^<<A', '^<^<A', '<^^<A', '^<<^A', '<^<^A')\n",
      "-----------------------------------------------\n",
      "('^^<<A', '^<^<A', '<^^<A', '^<<^A', '<^<^A')\n",
      "('>A',)\n",
      "('>A',)\n",
      "('vvA',)\n",
      "('^^<<A>A>AvvA', '^<^<A>A>AvvA', '<^^<A>A>AvvA', '^<<^A>A>AvvA', '<^<^A>A>AvvA')\n"
     ]
    }
   ],
   "source": [
    "print(NUM_PAIRS['A4'])\n",
    "print(mutate_code('4', 'N'))\n",
    "print('-----------------------------------------------')\n",
    "print(NUM_PAIRS['A4'])\n",
    "print(NUM_PAIRS['45'])\n",
    "print(NUM_PAIRS['56'])\n",
    "print(NUM_PAIRS['6A'])\n",
    "print(mutate_code('456A', 'N'))\n",
    "# print(get_all_shortest_paths_code('>A', G_dir, 'D'))"
   ]
  },
  {
   "cell_type": "code",
   "execution_count": 6,
   "metadata": {},
   "outputs": [
    {
     "name": "stdout",
     "output_type": "stream",
     "text": [
      "('<AAv<AA>^>A', '<AAv<AA>>^A')\n",
      "('<AAv<AA>^>A', '<AAv<AA>>^A')\n"
     ]
    }
   ],
   "source": [
    "print(get_all_shortest_paths_code('^^<<A', G_dir, 'D'))\n",
    "print(mutate_code('^^<<A', 'D'))"
   ]
  },
  {
   "cell_type": "code",
   "execution_count": 7,
   "metadata": {},
   "outputs": [
    {
     "name": "stdout",
     "output_type": "stream",
     "text": [
      "('<A^A^^>AvvvA', '<A^A^>^AvvvA', '<A^A>^^AvvvA')\n",
      "('<A^A^^>AvvvA', '<A^A^>^AvvvA', '<A^A>^^AvvvA')\n",
      "68\n"
     ]
    }
   ],
   "source": [
    "# should print\n",
    "# <A^A>^^AvvvA, <A^A^>^AvvvA, and <A^A^^>AvvvA\n",
    "# for code 029A\n",
    "print(get_all_shortest_paths_code(\"029A\", G_num, type_='N'))\n",
    "print(mutate_code('029A', 'N'))\n",
    "\n",
    "# should print 68\n",
    "print(len_after_mutation('v<<A>>^A<A>AvA<^AA>A<vAAA>^A'))"
   ]
  },
  {
   "cell_type": "code",
   "execution_count": 8,
   "metadata": {},
   "outputs": [
    {
     "name": "stdout",
     "output_type": "stream",
     "text": [
      "('^A^^<<A>>AvvvA', '^A^<^<A>>AvvvA', '^A<^^<A>>AvvvA', '^A^<<^A>>AvvvA', '^A<^<^A>>AvvvA', '^A<<^^A>>AvvvA')\n"
     ]
    }
   ],
   "source": [
    "print(mutate_code('379A', 'N'))"
   ]
  },
  {
   "cell_type": "code",
   "execution_count": 9,
   "metadata": {},
   "outputs": [
    {
     "data": {
      "text/plain": [
       "64"
      ]
     },
     "execution_count": 9,
     "metadata": {},
     "output_type": "execute_result"
    }
   ],
   "source": [
    "min([\n",
    "    len_rec_code_d(c, 1, 2) for c in mutate_code('379A', 'N')\n",
    "])"
   ]
  },
  {
   "cell_type": "markdown",
   "metadata": {},
   "source": [
    "Part 1"
   ]
  },
  {
   "cell_type": "code",
   "execution_count": 10,
   "metadata": {},
   "outputs": [
    {
     "data": {
      "text/plain": [
       "278748"
      ]
     },
     "execution_count": 10,
     "metadata": {},
     "output_type": "execute_result"
    }
   ],
   "source": [
    "# in_ = INPUT_TEST\n",
    "in_ = INPUT\n",
    "total = 0\n",
    "for code in in_:\n",
    "    mins = set()\n",
    "    shortest_paths_l1 = get_all_shortest_paths_code(\n",
    "        code, G_num, 'N')\n",
    "    for sp_l1 in shortest_paths_l1:\n",
    "        shortest_paths_l2 = get_all_shortest_paths_code(\n",
    "            sp_l1, G_dir, 'D')\n",
    "        for sp_l2 in shortest_paths_l2:\n",
    "            mins.add(\n",
    "                len_after_mutation(sp_l2)\n",
    "            )\n",
    "    min_ = min(mins)\n",
    "    total += int(code.replace('A', ''))*min_\n",
    "total"
   ]
  },
  {
   "cell_type": "markdown",
   "metadata": {},
   "source": [
    "Part 2"
   ]
  },
  {
   "cell_type": "code",
   "execution_count": 11,
   "metadata": {},
   "outputs": [
    {
     "data": {
      "text/plain": [
       "337744744231414"
      ]
     },
     "execution_count": 11,
     "metadata": {},
     "output_type": "execute_result"
    }
   ],
   "source": [
    "in_ = INPUT\n",
    "total = 0\n",
    "for code in in_:\n",
    "    min_ = min([\n",
    "        len_rec_code_d(c, 1, 25) for c in mutate_code(code, 'N')\n",
    "    ])\n",
    "    total += int(code.replace('A', ''))*min_\n",
    "total"
   ]
  },
  {
   "cell_type": "code",
   "execution_count": null,
   "metadata": {},
   "outputs": [],
   "source": []
  }
 ],
 "metadata": {
  "kernelspec": {
   "display_name": "data_venv",
   "language": "python",
   "name": "python3"
  },
  "language_info": {
   "codemirror_mode": {
    "name": "ipython",
    "version": 3
   },
   "file_extension": ".py",
   "mimetype": "text/x-python",
   "name": "python",
   "nbconvert_exporter": "python",
   "pygments_lexer": "ipython3",
   "version": "3.12.0"
  }
 },
 "nbformat": 4,
 "nbformat_minor": 2
}
