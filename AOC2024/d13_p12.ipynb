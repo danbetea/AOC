{
 "cells": [
  {
   "cell_type": "code",
   "execution_count": 15,
   "metadata": {},
   "outputs": [],
   "source": [
    "INPUT_TEST_ = \"\"\"Button A: X+94, Y+34\n",
    "Button B: X+22, Y+67\n",
    "Prize: X=8400, Y=5400\n",
    "\n",
    "Button A: X+26, Y+66\n",
    "Button B: X+67, Y+21\n",
    "Prize: X=12748, Y=12176\n",
    "\n",
    "Button A: X+17, Y+86\n",
    "Button B: X+84, Y+37\n",
    "Prize: X=7870, Y=6450\n",
    "\n",
    "Button A: X+69, Y+23\n",
    "Button B: X+27, Y+71\n",
    "Prize: X=18641, Y=10279\"\"\"\n",
    "INPUT_TEST = []\n",
    "INPUT_TEST_TMP_ = INPUT_TEST_.split('\\n\\n')\n",
    "INPUT_TEST_TMP_ = [[x.split(': ')[1] for x in IN.split('\\n')] for IN in INPUT_TEST_TMP_]\n",
    "for in_ in INPUT_TEST_TMP_:\n",
    "    d = {}\n",
    "    IN = [\n",
    "        in_[0].split(', ')[0],\n",
    "        in_[0].split(', ')[1],\n",
    "        in_[1].split(', ')[0],\n",
    "        in_[1].split(', ')[1],\n",
    "        in_[2].split(', ')[0],\n",
    "        in_[2].split(', ')[1],\n",
    "        ]\n",
    "    d['A'] = (int(IN[0][2:]), int(IN[1][2:]))\n",
    "    d['B'] = (int(IN[2][2:]), int(IN[3][2:]))\n",
    "    d['P'] = (int(IN[4][2:]), int(IN[5][2:]))\n",
    "    INPUT_TEST.append(d)\n",
    "\n",
    "with open('d13_in.txt', 'r') as f:\n",
    "    INPUT_ = f.read()\n",
    "INPUT = []\n",
    "INPUT_TMP_ = INPUT_.split('\\n\\n')\n",
    "INPUT_TMP_ = [[x.split(': ')[1] for x in IN.split('\\n')] for IN in INPUT_TMP_]\n",
    "for in_ in INPUT_TMP_:\n",
    "    d = {}\n",
    "    IN = [\n",
    "        in_[0].split(', ')[0],\n",
    "        in_[0].split(', ')[1],\n",
    "        in_[1].split(', ')[0],\n",
    "        in_[1].split(', ')[1],\n",
    "        in_[2].split(', ')[0],\n",
    "        in_[2].split(', ')[1],\n",
    "        ]\n",
    "    d['A'] = (int(IN[0][2:]), int(IN[1][2:]))\n",
    "    d['B'] = (int(IN[2][2:]), int(IN[3][2:]))\n",
    "    d['P'] = (int(IN[4][2:]), int(IN[5][2:]))\n",
    "    INPUT.append(d)"
   ]
  },
  {
   "cell_type": "markdown",
   "metadata": {},
   "source": [
    "Part 1"
   ]
  },
  {
   "cell_type": "code",
   "execution_count": 29,
   "metadata": {},
   "outputs": [
    {
     "data": {
      "text/plain": [
       "39996"
      ]
     },
     "execution_count": 29,
     "metadata": {},
     "output_type": "execute_result"
    }
   ],
   "source": [
    "in_ = INPUT\n",
    "\n",
    "total_cost = 0\n",
    "\n",
    "for idx, d in enumerate(in_):\n",
    "    costs = []\n",
    "\n",
    "    for i in range(101):\n",
    "        for j in range(101):\n",
    "            sx = i*d['A'][0] + j*d['B'][0]\n",
    "            sy = i*d['A'][1] + j*d['B'][1]\n",
    "            if sx == d['P'][0] and sy == d['P'][1]:\n",
    "                cost = 3*i+j\n",
    "                total_cost += cost\n",
    "\n",
    "total_cost"
   ]
  },
  {
   "cell_type": "markdown",
   "metadata": {},
   "source": [
    "Part 2"
   ]
  },
  {
   "cell_type": "code",
   "execution_count": 31,
   "metadata": {},
   "outputs": [],
   "source": [
    "BIG_NUM = 10000000000000"
   ]
  }
 ],
 "metadata": {
  "kernelspec": {
   "display_name": "data_venv",
   "language": "python",
   "name": "python3"
  },
  "language_info": {
   "codemirror_mode": {
    "name": "ipython",
    "version": 3
   },
   "file_extension": ".py",
   "mimetype": "text/x-python",
   "name": "python",
   "nbconvert_exporter": "python",
   "pygments_lexer": "ipython3",
   "version": "3.12.0"
  }
 },
 "nbformat": 4,
 "nbformat_minor": 2
}
