{
 "cells": [
  {
   "cell_type": "code",
   "execution_count": 2,
   "metadata": {},
   "outputs": [],
   "source": [
    "orders_test_ = \"\"\"47|53\n",
    "97|13\n",
    "97|61\n",
    "97|47\n",
    "75|29\n",
    "61|13\n",
    "75|53\n",
    "29|13\n",
    "97|29\n",
    "53|29\n",
    "61|53\n",
    "97|53\n",
    "61|29\n",
    "47|13\n",
    "75|47\n",
    "97|75\n",
    "47|61\n",
    "75|61\n",
    "47|29\n",
    "75|13\n",
    "53|13\"\"\"\n",
    "orders_test = [tuple(int(s) for s in line.split('|'))\n",
    "               for line in orders_test_.split('\\n')]\n",
    "\n",
    "sequences_test_ = \"\"\"75,47,61,53,29\n",
    "97,61,53,29,13\n",
    "75,29,13\n",
    "75,97,47,61,53\n",
    "61,13,29\n",
    "97,13,75,29,47\"\"\"\n",
    "sequences_test = [[int(s) for s in line.split(',')]\n",
    "                  for line in sequences_test_.split('\\n')]\n",
    "\n",
    "orders = []\n",
    "sequences = []\n",
    "with open(\"d5_in.txt\", 'r') as f:\n",
    "    while (line := f.readline()) != '\\n':\n",
    "        orders.append(\n",
    "            tuple(int(s) for s in line.rstrip('\\n').split('|'))\n",
    "        )\n",
    "    sequences = f.readlines()\n",
    "sequences = [[int(i) for i in line.split(',')]\n",
    "             for line in sequences]\n",
    "\n",
    "orders_set = set(orders)\n",
    "orders_set_test = set(orders_test)"
   ]
  },
  {
   "cell_type": "markdown",
   "metadata": {},
   "source": [
    "Part 1"
   ]
  },
  {
   "cell_type": "code",
   "execution_count": null,
   "metadata": {},
   "outputs": [],
   "source": [
    "def compute_mid_p1(\n",
    "        seq: list[int],\n",
    "        orders_set: set[tuple[int, int]]\n",
    "    ) -> int:\n",
    "    \"\"\"Returns -1 if incorrect order,\n",
    "    otherwise returns the mid of the\n",
    "    correctly ordered list\"\"\"\n",
    "    for i in range(len(seq)-1):\n",
    "        for j in range(i+1, len(seq)):\n",
    "            t_rev = (seq[j], seq[i])\n",
    "            if t_rev in orders_set:\n",
    "                return -1\n",
    "    return seq[len(seq) // 2]"
   ]
  },
  {
   "cell_type": "code",
   "execution_count": 4,
   "metadata": {},
   "outputs": [
    {
     "data": {
      "text/plain": [
       "5329"
      ]
     },
     "execution_count": 4,
     "metadata": {},
     "output_type": "execute_result"
    }
   ],
   "source": [
    "total = 0\n",
    "for s in sequences:\n",
    "    if (n := compute_mid_p1(s, orders_set)) > -1:\n",
    "        total += n\n",
    "total"
   ]
  },
  {
   "cell_type": "markdown",
   "metadata": {},
   "source": [
    "Part 2"
   ]
  },
  {
   "cell_type": "code",
   "execution_count": null,
   "metadata": {},
   "outputs": [],
   "source": [
    "def compute_mid_p2(\n",
    "        seq: list[int],\n",
    "        orders_set: set[tuple[int, int]]\n",
    "    ) -> int:\n",
    "    \"\"\"Returns mid of correctly ordered seq\n",
    "    if seq is in incorrect order,\n",
    "    otherwise returns -1\"\"\"\n",
    "    seq_2 = seq[:]\n",
    "    inc = False\n",
    "    for i in range(len(seq_2)-1):\n",
    "        for j in range(i+1, len(seq_2)):\n",
    "            t_rev = (seq_2[j], seq_2[i])\n",
    "            if t_rev in orders_set:\n",
    "                inc = True\n",
    "                seq_2[i], seq_2[j] = seq_2[j], seq_2[i]\n",
    "    return seq_2[len(seq_2) // 2] if inc else -1"
   ]
  },
  {
   "cell_type": "code",
   "execution_count": 6,
   "metadata": {},
   "outputs": [
    {
     "data": {
      "text/plain": [
       "5833"
      ]
     },
     "execution_count": 6,
     "metadata": {},
     "output_type": "execute_result"
    }
   ],
   "source": [
    "total_p2 = 0\n",
    "for s in sequences:\n",
    "    if (n := compute_mid_p2(s, orders_set)) > -1:\n",
    "        total_p2 += n\n",
    "total_p2"
   ]
  },
  {
   "cell_type": "code",
   "execution_count": null,
   "metadata": {},
   "outputs": [],
   "source": []
  }
 ],
 "metadata": {
  "kernelspec": {
   "display_name": "data_venv",
   "language": "python",
   "name": "python3"
  },
  "language_info": {
   "codemirror_mode": {
    "name": "ipython",
    "version": 3
   },
   "file_extension": ".py",
   "mimetype": "text/x-python",
   "name": "python",
   "nbconvert_exporter": "python",
   "pygments_lexer": "ipython3",
   "version": "3.12.0"
  }
 },
 "nbformat": 4,
 "nbformat_minor": 2
}
