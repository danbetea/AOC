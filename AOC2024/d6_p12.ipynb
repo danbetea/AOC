{
 "cells": [
  {
   "cell_type": "code",
   "execution_count": 42,
   "metadata": {},
   "outputs": [],
   "source": [
    "from copy import deepcopy"
   ]
  },
  {
   "cell_type": "code",
   "execution_count": 43,
   "metadata": {},
   "outputs": [
    {
     "data": {
      "text/plain": [
       "['....#.....',\n",
       " '.........#',\n",
       " '..........',\n",
       " '..#.......',\n",
       " '.......#..',\n",
       " '..........',\n",
       " '.#..^.....',\n",
       " '........#.',\n",
       " '#.........',\n",
       " '......#...']"
      ]
     },
     "execution_count": 43,
     "metadata": {},
     "output_type": "execute_result"
    }
   ],
   "source": [
    "map_test_ = \"\"\"\n",
    "....#.....\n",
    ".........#\n",
    "..........\n",
    "..#.......\n",
    ".......#..\n",
    "..........\n",
    ".#..^.....\n",
    "........#.\n",
    "#.........\n",
    "......#...\n",
    "\"\"\"\n",
    "MAP_TEST = [line.rstrip('\\n') for line in map_test_.lstrip('\\n').rstrip('\\n').split('\\n')]\n",
    "\n",
    "with open('d6_in.txt', 'r') as f:\n",
    "    map_ = f.readlines()\n",
    "MAP = [line.rstrip('\\n') for line in map_]\n",
    "\n",
    "MAP_TEST"
   ]
  },
  {
   "cell_type": "code",
   "execution_count": null,
   "metadata": {},
   "outputs": [],
   "source": [
    "# i = vertical direction, j = horizontal direction\n",
    "# ----------> \n",
    "# |         j  \n",
    "# |\n",
    "# |\n",
    "# v i\n",
    "\n",
    "def get_starting_pos(map: list[str], direction: str = '^') -> tuple[int, int]:\n",
    "    for i in range(len(map)):\n",
    "        for j in range(len(map[0])):\n",
    "            if map[i][j] == direction:\n",
    "                return (i, j)\n",
    "    return (-1, -1)\n",
    "\n",
    "def in_bounds(i: int, j: int, map: list[str]) -> bool:\n",
    "    return j >= 0 and j <= len(map[0])-1 and i >= 0 and i <= len(map)-1 \n",
    "\n",
    "def is_available(i: int, j: int, map: list[str]) -> bool:\n",
    "    return in_bounds(i, j, map) and map[i][j] == '.'\n",
    "\n",
    "def is_obstacle(i: int, j: int, map: list[str]) -> bool:\n",
    "    return in_bounds(i, j, map) and map[i][j] == '#'\n",
    "\n",
    "def get_new_state(i: int, j: int, direction: str, map: list[str]) -> list[str]:\n",
    "    match direction:\n",
    "        case '^':\n",
    "            if is_available(i-1, j, map):\n",
    "                return (i-1, j, '^')\n",
    "            elif is_obstacle(i-1, j, map):\n",
    "                if is_available(i, j+1, map):\n",
    "                    return (i, j+1, '>')\n",
    "                elif is_obstacle(i, j+1, map):\n",
    "                    return (i, j, 'v')\n",
    "                else:\n",
    "                    return (-1, -1, '*')\n",
    "            else:\n",
    "                return (-1, -1, '*')\n",
    "        case 'v':\n",
    "            if is_available(i+1, j, map):\n",
    "                return (i+1, j, 'v')\n",
    "            elif is_obstacle(i+1, j, map):\n",
    "                if is_available(i, j-1, map):\n",
    "                    return (i, j-1, '<')\n",
    "                elif is_obstacle(i, j-1, map):\n",
    "                    return (i, j, '^')\n",
    "                else:\n",
    "                    return (-1, -1, '*')\n",
    "            else:\n",
    "                return (-1, -1, '*')\n",
    "        case '>':\n",
    "            if is_available(i, j+1, map):\n",
    "                return (i, j+1, '>')\n",
    "            elif is_obstacle(i, j+1, map):\n",
    "                if is_available(i+1, j, map):\n",
    "                    return (i+1, j, 'v')\n",
    "                elif is_obstacle(i+1, j, map):\n",
    "                    return (i, j, '<')\n",
    "                else:\n",
    "                    return (-1, -1, '*')\n",
    "            else:\n",
    "                return (-1, -1, '*')\n",
    "        case '<':\n",
    "            if is_available(i, j-1, map):\n",
    "                return (i, j-1, '<')\n",
    "            elif is_obstacle(i, j-1, map):\n",
    "                if is_available(i-1, j, map):\n",
    "                    return (i-1, j, '^')\n",
    "                elif is_obstacle(i-1, j, map):\n",
    "                    return (i, j, '>')\n",
    "                else: \n",
    "                    return (-1, -1, '*')\n",
    "            else:\n",
    "                return (-1, -1, '*')\n",
    "\n",
    "def change_map(i: int, j: int, map: list[str], new_symb: str = '#') -> list[str]:\n",
    "    new_map = deepcopy(map)\n",
    "    new_map[i] = new_map[i][:j]+new_symb+new_map[i][j+1:]\n",
    "    return new_map\n",
    "\n",
    "def print_obstr_map(i: int, j: int, map: list[str]):\n",
    "    map_ = deepcopy(map)\n",
    "    map_[i] = map_[i][:j]+'O'+map_[i][j+1:]\n",
    "    print(\"\\n\".join(map_))"
   ]
  },
  {
   "cell_type": "markdown",
   "metadata": {},
   "source": [
    "Part 1"
   ]
  },
  {
   "cell_type": "code",
   "execution_count": 45,
   "metadata": {},
   "outputs": [],
   "source": [
    "map_init = deepcopy(MAP)\n",
    "(i, j) = get_starting_pos(map_init)\n",
    "map = change_map(i, j, map_init, new_symb='.')\n",
    "state = (i, j, '^')\n",
    "v_sites = set([(i, j)])\n",
    "while state != (-1, -1, '*'):\n",
    "    i, j, direction = state[0], state[1], state[2]\n",
    "    state = get_new_state(i, j, direction, map)\n",
    "    if state != (-1, -1, '*'):\n",
    "        i, j, _ = state\n",
    "        v_sites.add((i, j))"
   ]
  },
  {
   "cell_type": "code",
   "execution_count": 46,
   "metadata": {},
   "outputs": [
    {
     "data": {
      "text/plain": [
       "5239"
      ]
     },
     "execution_count": 46,
     "metadata": {},
     "output_type": "execute_result"
    }
   ],
   "source": [
    "len(v_sites)"
   ]
  },
  {
   "cell_type": "markdown",
   "metadata": {},
   "source": [
    "Part 2"
   ]
  },
  {
   "cell_type": "code",
   "execution_count": 47,
   "metadata": {},
   "outputs": [],
   "source": [
    "map_init = deepcopy(MAP)\n",
    "\n",
    "# map_init = deepcopy(MAP_TEST)\n",
    "\n",
    "# map_init_ = \"\"\"\n",
    "# .##..\n",
    "# ....#\n",
    "# ..^..\n",
    "# ...#.\n",
    "# \"\"\"\n",
    "# map_init = [line.rstrip('\\n') for line in map_init_.lstrip('\\n').rstrip('\\n').split('\\n')]\n",
    "\n",
    "# map_init_ = \"\"\"\n",
    "# #.\n",
    "# ^#\n",
    "# ..\n",
    "# \"\"\"\n",
    "# map_init = [line.rstrip('\\n') for line in map_init_.lstrip('\\n').rstrip('\\n').split('\\n')]\n",
    "\n",
    "starting_pos = get_starting_pos(map_init)\n",
    "i, j = starting_pos\n",
    "map = change_map(i, j, map_init, new_symb='.')\n",
    "state = (i, j, '^')\n",
    "visited_sites = set()\n",
    "\n",
    "while state != (-1, -1, '*'):\n",
    "    i, j, direction = state\n",
    "    visited_sites.add((i, j))\n",
    "    state = get_new_state(i, j, direction, map)"
   ]
  },
  {
   "cell_type": "code",
   "execution_count": 48,
   "metadata": {},
   "outputs": [],
   "source": [
    "count = 0\n",
    "for idx, p in enumerate(visited_sites):\n",
    "    starting_pos = get_starting_pos(map_init)\n",
    "    i_s, j_s = starting_pos\n",
    "    map_ = change_map(i_s, j_s, map_init, new_symb='.' )\n",
    "    if p == starting_pos:\n",
    "        continue\n",
    "    state = (i_s, j_s, '^')\n",
    "    map = change_map(p[0], p[1], map_, new_symb='#')\n",
    "    visited_states = set()\n",
    "\n",
    "    while state != (-1, -1, '*'):\n",
    "        i, j, dir = state\n",
    "\n",
    "        visited_states.add(state)\n",
    "\n",
    "        new_state = get_new_state(i, j, dir, map)\n",
    "        if new_state in visited_states:\n",
    "            count += 1\n",
    "            break\n",
    "        state = new_state"
   ]
  },
  {
   "cell_type": "code",
   "execution_count": 49,
   "metadata": {},
   "outputs": [
    {
     "data": {
      "text/plain": [
       "1753"
      ]
     },
     "execution_count": 49,
     "metadata": {},
     "output_type": "execute_result"
    }
   ],
   "source": [
    "count"
   ]
  },
  {
   "cell_type": "code",
   "execution_count": null,
   "metadata": {},
   "outputs": [],
   "source": []
  }
 ],
 "metadata": {
  "kernelspec": {
   "display_name": "data_venv",
   "language": "python",
   "name": "python3"
  },
  "language_info": {
   "codemirror_mode": {
    "name": "ipython",
    "version": 3
   },
   "file_extension": ".py",
   "mimetype": "text/x-python",
   "name": "python",
   "nbconvert_exporter": "python",
   "pygments_lexer": "ipython3",
   "version": "3.12.0"
  }
 },
 "nbformat": 4,
 "nbformat_minor": 2
}
