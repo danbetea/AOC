{
 "cells": [
  {
   "cell_type": "code",
   "execution_count": 6,
   "metadata": {},
   "outputs": [],
   "source": [
    "from copy import deepcopy\n",
    "\n",
    "\n",
    "from functools import cache"
   ]
  },
  {
   "cell_type": "code",
   "execution_count": 7,
   "metadata": {},
   "outputs": [],
   "source": [
    "\"\"\"Register A: 729\n",
    "Register B: 0\n",
    "Register C: 0\n",
    "\n",
    "Program: 0,1,5,4,3,0\"\"\"\n",
    "\n",
    "REGS_TEST = {\"A\": 729, \"B\": 0, \"C\": 0}\n",
    "REGS_TEST_I = (729, 0, 0)\n",
    "PROG_TEST = [int(i) for i in \"0,1,5,4,3,0\".split(',')]\n",
    "\n",
    "\"\"\"Register A: 123729\n",
    "Register B: 0\n",
    "Register C: 0\n",
    "\n",
    "Program: 0,3,5,4,3,0\"\"\"\n",
    "REGS_TEST_1 = {\"A\": 123729, \"B\": 0, \"C\": 0}\n",
    "PROG_TEST_1 = [int(i) for i in \"0,3,5,4,3,0\".split(',')]\n",
    "REGS_TEST_I_1 = (123729, 0, 0)\n",
    "\n",
    "\"\"\"Register A: 64012472\n",
    "Register B: 0\n",
    "Register C: 0\n",
    "\n",
    "Program: 2,4,1,7,7,5,0,3,1,7,4,1,5,5,3,0\"\"\"\n",
    "REGS = {\"A\": 64012472, \"B\": 0, \"C\": 0}\n",
    "PROG = [int(i) for i in \"2,4,1,7,7,5,0,3,1,7,4,1,5,5,3,0\".split(',')]\n",
    "REGS_I = (64012472, 0, 0)"
   ]
  },
  {
   "cell_type": "code",
   "execution_count": 8,
   "metadata": {},
   "outputs": [],
   "source": [
    "# There are two types of operands; each instruction specifies the type of its operand. \n",
    "# The value of a literal operand is the operand itself. \n",
    "# For example, the value of the literal operand 7 is the number 7. \n",
    "# The value of a combo operand can be found as follows:\n",
    "\n",
    "# Combo operands 0 through 3 represent literal values 0 through 3.\n",
    "# Combo operand 4 represents the value of register A.\n",
    "# Combo operand 5 represents the value of register B.\n",
    "# Combo operand 6 represents the value of register C.\n",
    "# Combo operand 7 is reserved and will not appear in valid programs.\n",
    "def combo(o, regs):\n",
    "    if 0 <= o <= 3:\n",
    "        return o\n",
    "    elif o == 4:\n",
    "        return regs['A']\n",
    "    elif o == 5:\n",
    "        return regs['B']\n",
    "    elif o == 6:\n",
    "        return regs['C']\n",
    "    else:\n",
    "        raise ValueError(\"invalid or reserved\")\n",
    "    \n",
    "def combo_i(o, regs):\n",
    "    if 0 <= o <= 3:\n",
    "        return o\n",
    "    elif o == 4:\n",
    "        return regs[0]\n",
    "    elif o == 5:\n",
    "        return regs[1]\n",
    "    elif o == 6:\n",
    "        return regs[2]\n",
    "    else:\n",
    "        raise ValueError(\"invalid or reserved\")\n",
    "\n",
    "# The adv instruction (opcode 0) performs division. The numerator is the value in the A register. \n",
    "# The denominator is found by raising 2 to the power of the instruction's combo operand. \n",
    "# (So, an operand of 2 would divide A by 4 (2^2); an operand of 5 would divide A by 2^B.) \n",
    "# The result of the division operation is truncated to an integer and then written to the A register.\n",
    "def adv(o, regs, pt, state):\n",
    "    regs['A'] = regs['A'] >> combo(o, regs)\n",
    "    pt += 2\n",
    "    return regs, pt, state\n",
    "\n",
    "def adv_i(o, regs, pt, state):\n",
    "    regs_ = (regs[0] >> combo_i(o, regs), regs[1], regs[2])\n",
    "    pt += 2\n",
    "    return regs_, pt, state\n",
    "\n",
    "# The bxl instruction (opcode 1) calculates the bitwise XOR of register B and the \n",
    "# instruction's literal operand, then stores the result in register B.\n",
    "def bxl(o, regs, pt, state):\n",
    "    regs['B'] = regs['B'] ^ o\n",
    "    pt += 2\n",
    "    return regs, pt, state\n",
    "\n",
    "def bxl_i(o, regs, pt, state):\n",
    "    regs_ = (regs[0], regs[1] ^ o, regs[2])\n",
    "    pt += 2\n",
    "    return regs_, pt, state\n",
    "\n",
    "# The bst instruction (opcode 2) calculates the value of its combo operand modulo 8 \n",
    "# (thereby keeping only its lowest 3 bits), then writes that value to the B register.\n",
    "def bst(o, regs, pt, state):\n",
    "    regs['B'] = combo(o, regs) % 8\n",
    "    pt += 2\n",
    "    return regs, pt, state\n",
    "\n",
    "def bst_i(o, regs, pt, state):\n",
    "    regs_ = (regs[0], combo_i(o, regs) % 8, regs[2])\n",
    "    pt += 2\n",
    "    return regs_, pt, state\n",
    "\n",
    "# The jnz instruction (opcode 3) does nothing if the A register is 0. However, if the A register \n",
    "# is not zero, it jumps by setting the instruction pointer to the value of its literal operand; \n",
    "# if this instruction jumps, the instruction pointer is not increased by 2 after this instruction.\n",
    "def jnz(o, regs, pt, state):\n",
    "    if regs['A'] == 0:\n",
    "        pt += 2\n",
    "        return regs, pt, state\n",
    "    else:\n",
    "        pt = o\n",
    "        return regs, pt, state\n",
    "    \n",
    "def jnz_i(o, regs, pt, state):\n",
    "    if regs[0] == 0:\n",
    "        pt += 2\n",
    "        return regs, pt, state\n",
    "    else:\n",
    "        pt = o\n",
    "        return regs, pt, state\n",
    "\n",
    "# The bxc instruction (opcode 4) calculates the bitwise XOR of \n",
    "# register B and register C, then stores the result in register B.\n",
    "# (For legacy reasons, this instruction reads an operand but ignores it.)\n",
    "def bxc(o, regs, pt, state):\n",
    "    regs['B'] = regs['B'] ^ regs['C']\n",
    "    pt += 2\n",
    "    return regs, pt, state\n",
    "\n",
    "def bxc_i(o, regs, pt, state):\n",
    "    regs_ = (regs[0], regs[1] ^ regs[2], regs[2])\n",
    "    pt += 2\n",
    "    return regs_, pt, state\n",
    "\n",
    "# The out instruction (opcode 5) calculates the value of its combo operand modulo 8, \n",
    "# then outputs that value. (If a program outputs multiple values, they are separated by commas.)\n",
    "def out(o, regs, pt, state):\n",
    "    pt += 2\n",
    "    state += f\"{combo(o, regs) % 8}\"\n",
    "    return regs, pt, state\n",
    "\n",
    "def out_i(o, regs, pt, state):\n",
    "    pt += 2\n",
    "    state += f\"{combo_i(o, regs) % 8}\"\n",
    "    return regs, pt, state\n",
    "\n",
    "# The bdv instruction (opcode 6) works exactly like the adv instruction except\n",
    "# that the result is stored in the B register. \n",
    "# (The numerator is still read from the A register.)\n",
    "def bdv(o, regs, pt, state):\n",
    "    regs['B'] = regs['A'] >> combo(o, regs)\n",
    "    pt += 2\n",
    "    return regs, pt, state\n",
    "\n",
    "def bdv_i(o, regs, pt, state):\n",
    "    regs_ = (regs[0], regs[0] >> combo_i(o, regs), regs[2])\n",
    "    pt += 2\n",
    "    return regs_, pt, state\n",
    "\n",
    "# The cdv instruction (opcode 7) works exactly like the adv instruction except \n",
    "# that the result is stored in the C register. \n",
    "# (The numerator is still read from the A register.)\n",
    "def cdv(o, regs, pt, state):\n",
    "    regs['C'] = regs['A'] >> combo(o, regs)\n",
    "    pt += 2\n",
    "    return regs, pt, state\n",
    "\n",
    "def cdv_i(o, regs, pt, state):\n",
    "    regs_ = (regs[0], regs[1], regs[0] >> combo_i(o, regs))\n",
    "    pt += 2\n",
    "    return regs_, pt, state\n",
    "\n",
    "INS = {0: adv, 1: bxl, 2: bst, 3: jnz, 4: bxc, 5: out, 6: bdv, 7: cdv}\n",
    "INS_I = {0: adv_i, 1: bxl_i, 2: bst_i, 3: jnz_i, 4: bxc_i, 5: out_i, 6: bdv_i, 7: cdv_i}"
   ]
  },
  {
   "cell_type": "markdown",
   "metadata": {},
   "source": [
    "Part 1"
   ]
  },
  {
   "cell_type": "code",
   "execution_count": 9,
   "metadata": {},
   "outputs": [
    {
     "data": {
      "text/plain": [
       "'1,0,2,0,5,7,2,1,3'"
      ]
     },
     "execution_count": 9,
     "metadata": {},
     "output_type": "execute_result"
    }
   ],
   "source": [
    "# using mutable dicts\n",
    "regs = deepcopy(REGS)\n",
    "prog = PROG\n",
    "state = \"\"\n",
    "pt = 0\n",
    "\n",
    "while pt < len(prog)-1:\n",
    "    oc = prog[pt]\n",
    "    o = prog[pt+1]\n",
    "    regs, pt, state = INS[oc](o, regs, pt, state)\n",
    "\n",
    "\",\".join(list(state))"
   ]
  },
  {
   "cell_type": "code",
   "execution_count": 10,
   "metadata": {},
   "outputs": [
    {
     "data": {
      "text/plain": [
       "'1,0,2,0,5,7,2,1,3'"
      ]
     },
     "execution_count": 10,
     "metadata": {},
     "output_type": "execute_result"
    }
   ],
   "source": [
    "# using immutable tuples\n",
    "regs = REGS_I\n",
    "prog = tuple(PROG)\n",
    "state = \"\"\n",
    "pt = 0\n",
    "\n",
    "while pt < len(prog)-1:\n",
    "    oc = prog[pt]\n",
    "    o = prog[pt+1]\n",
    "    regs, pt, state = INS_I[oc](o, regs, pt, state)\n",
    "\n",
    "\",\".join(list(state))"
   ]
  },
  {
   "cell_type": "markdown",
   "metadata": {},
   "source": [
    "Part 2"
   ]
  },
  {
   "cell_type": "code",
   "execution_count": null,
   "metadata": {},
   "outputs": [],
   "source": [
    "# useful for checking a few values\n",
    "\n",
    "prog = PROG\n",
    "orig_state = \"\".join([str(s) for s in prog])\n",
    "\n",
    "for i in range(100000):\n",
    "    regs = deepcopy(REGS)\n",
    "    regs['A'] = i\n",
    "    state = \"\"\n",
    "    pt = 0\n",
    "    while pt < len(prog)-1:\n",
    "        oc = prog[pt]\n",
    "        o = prog[pt+1]\n",
    "        regs, pt, state = INS[oc](o, regs, pt, state)\n",
    "    print(i, oct(i), state)"
   ]
  },
  {
   "cell_type": "code",
   "execution_count": 22,
   "metadata": {},
   "outputs": [],
   "source": [
    "def build(i, i_max, prog, orig_str, poss={0: [\"\"]}):\n",
    "    if i == i_max:\n",
    "        return\n",
    "    poss[i+1] = []\n",
    "    for j in range(8):\n",
    "        for s in poss[i]:\n",
    "            rA_str = s + str(j)\n",
    "            regs = (int(rA_str, 8), 0, 0)\n",
    "            state = \"\"\n",
    "            pt = 0\n",
    "            while pt < len(prog)-1:\n",
    "                oc = prog[pt]\n",
    "                o = prog[pt+1]\n",
    "                regs, pt, state = INS_I[oc](o, regs, pt, state)\n",
    "            if state == orig_str[-1-i:]:\n",
    "                poss[i+1].append(rA_str)\n",
    "    build(i+1, i_max, prog, orig_str, poss)"
   ]
  },
  {
   "cell_type": "code",
   "execution_count": 24,
   "metadata": {},
   "outputs": [
    {
     "data": {
      "text/plain": [
       "265652340990875"
      ]
     },
     "execution_count": 24,
     "metadata": {},
     "output_type": "execute_result"
    }
   ],
   "source": [
    "prog = PROG\n",
    "orig_state = \"\".join([str(s) for s in prog])\n",
    "poss = {0: [\"\"]}\n",
    "\n",
    "build(0, 16, prog, orig_state, poss)\n",
    "\n",
    "min_rA = min([int(x, 8) for x in poss[16]])\n",
    "min_rA"
   ]
  },
  {
   "cell_type": "code",
   "execution_count": 26,
   "metadata": {},
   "outputs": [
    {
     "data": {
      "text/plain": [
       "'2,4,1,7,7,5,0,3,1,7,4,1,5,5,3,0'"
      ]
     },
     "execution_count": 26,
     "metadata": {},
     "output_type": "execute_result"
    }
   ],
   "source": [
    "# let's check that it works\n",
    "# needs to pring the following program:\n",
    "# 2,4,1,7,7,5,0,3,1,7,4,1,5,5,3,0\n",
    "\n",
    "prog = PROG\n",
    "regs = (min_rA, 0, 0)\n",
    "state = \"\"\n",
    "pt = 0\n",
    "while pt < len(prog)-1:\n",
    "    oc = prog[pt]\n",
    "    o = prog[pt+1]\n",
    "    regs, pt, state = INS_I[oc](o, regs, pt, state)\n",
    "\",\".join(list(state))"
   ]
  }
 ],
 "metadata": {
  "kernelspec": {
   "display_name": "ddv2_venv",
   "language": "python",
   "name": "python3"
  },
  "language_info": {
   "codemirror_mode": {
    "name": "ipython",
    "version": 3
   },
   "file_extension": ".py",
   "mimetype": "text/x-python",
   "name": "python",
   "nbconvert_exporter": "python",
   "pygments_lexer": "ipython3",
   "version": "3.12.3"
  }
 },
 "nbformat": 4,
 "nbformat_minor": 2
}
