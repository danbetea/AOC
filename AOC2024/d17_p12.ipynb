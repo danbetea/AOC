{
 "cells": [
  {
   "cell_type": "code",
   "execution_count": 25,
   "metadata": {},
   "outputs": [],
   "source": [
    "from copy import deepcopy"
   ]
  },
  {
   "cell_type": "code",
   "execution_count": 34,
   "metadata": {},
   "outputs": [],
   "source": [
    "\"\"\"Register A: 729\n",
    "Register B: 0\n",
    "Register C: 0\n",
    "\n",
    "Program: 0,1,5,4,3,0\"\"\"\n",
    "\n",
    "REGS_TEST = {\"A\": 729, \"B\": 0, \"C\": 0}\n",
    "PROG_TEST = [int(i) for i in \"0,1,5,4,3,0\".split(',')]\n",
    "\n",
    "\"\"\"Register A: 123729\n",
    "Register B: 0\n",
    "Register C: 0\n",
    "\n",
    "Program: 0,3,5,4,3,0\"\"\"\n",
    "REGS_TEST_1 = {\"A\": 123729, \"B\": 0, \"C\": 0}\n",
    "PROG_TEST_1 = [int(i) for i in \"0,3,5,4,3,0\".split(',')]\n",
    "\n",
    "\"\"\"Register A: 64012472\n",
    "Register B: 0\n",
    "Register C: 0\n",
    "\n",
    "Program: 2,4,1,7,7,5,0,3,1,7,4,1,5,5,3,0\"\"\"\n",
    "REGS = {\"A\": 64012472, \"B\": 0, \"C\": 0}\n",
    "PROG = [int(i) for i in \"2,4,1,7,7,5,0,3,1,7,4,1,5,5,3,0\".split(',')]"
   ]
  },
  {
   "cell_type": "code",
   "execution_count": 32,
   "metadata": {},
   "outputs": [],
   "source": [
    "# There are two types of operands; each instruction specifies the type of its operand. \n",
    "# The value of a literal operand is the operand itself. \n",
    "# For example, the value of the literal operand 7 is the number 7. \n",
    "# The value of a combo operand can be found as follows:\n",
    "\n",
    "# Combo operands 0 through 3 represent literal values 0 through 3.\n",
    "# Combo operand 4 represents the value of register A.\n",
    "# Combo operand 5 represents the value of register B.\n",
    "# Combo operand 6 represents the value of register C.\n",
    "# Combo operand 7 is reserved and will not appear in valid programs.\n",
    "def combo(o, regs):\n",
    "    if 0 <= o <= 3:\n",
    "        return o\n",
    "    elif o == 4:\n",
    "        return regs['A']\n",
    "    elif o == 5:\n",
    "        return regs['B']\n",
    "    elif o == 6:\n",
    "        return regs['C']\n",
    "    else:\n",
    "        raise ValueError(\"invalid or reserved\")\n",
    "\n",
    "# The adv instruction (opcode 0) performs division. The numerator is the value in the A register. \n",
    "# The denominator is found by raising 2 to the power of the instruction's combo operand. \n",
    "# (So, an operand of 2 would divide A by 4 (2^2); an operand of 5 would divide A by 2^B.) \n",
    "# The result of the division operation is truncated to an integer and then written to the A register.\n",
    "def adv(o, regs, pt, state):\n",
    "    num, den = regs['A'], (1 << combo(o, regs))\n",
    "    regs['A'] = num // den\n",
    "    pt += 2\n",
    "    return regs, pt, state\n",
    "\n",
    "# The bxl instruction (opcode 1) calculates the bitwise XOR of register B and the \n",
    "# instruction's literal operand, then stores the result in register B.\n",
    "def bxl(o, regs, pt, state):\n",
    "    regs['B'] = regs['B'] ^ o\n",
    "    pt += 2\n",
    "    return regs, pt, state\n",
    "\n",
    "# The bst instruction (opcode 2) calculates the value of its combo operand modulo 8 \n",
    "# (thereby keeping only its lowest 3 bits), then writes that value to the B register.\n",
    "def bst(o, regs, pt, state):\n",
    "    regs['B'] = combo(o, regs) % 8\n",
    "    pt += 2\n",
    "    return regs, pt, state\n",
    "\n",
    "# The jnz instruction (opcode 3) does nothing if the A register is 0. However, if the A register \n",
    "# is not zero, it jumps by setting the instruction pointer to the value of its literal operand; \n",
    "# if this instruction jumps, the instruction pointer is not increased by 2 after this instruction.\n",
    "def jnz(o, regs, pt, state):\n",
    "    if regs['A'] == 0:\n",
    "        pt += 2\n",
    "        return regs, pt, state\n",
    "    else:\n",
    "        pt = o\n",
    "        return regs, pt, state\n",
    "\n",
    "# The bxc instruction (opcode 4) calculates the bitwise XOR of register B and register C, \n",
    "# then stores the result in register B. (For legacy reasons, this instruction reads an operand but ignores it.)\n",
    "def bxc(o, regs, pt, state):\n",
    "    regs['B'] = regs['B'] ^ regs['C']\n",
    "    pt += 2\n",
    "    return regs, pt, state\n",
    "\n",
    "# The out instruction (opcode 5) calculates the value of its combo operand modulo 8, \n",
    "# then outputs that value. (If a program outputs multiple values, they are separated by commas.)\n",
    "def out(o, regs, pt, state):\n",
    "    pt += 2\n",
    "    # print(f\"{combo(o, regs) % 8},\")\n",
    "    state += f\"{combo(o, regs) % 8}\"\n",
    "    return regs, pt, state\n",
    "\n",
    "# The bdv instruction (opcode 6) works exactly like the adv instruction except that the result is stored in the B register. \n",
    "# (The numerator is still read from the A register.)\n",
    "def bdv(o, regs, pt, state):\n",
    "    num, den = regs['A'], (1 << combo(o, regs))\n",
    "    regs['B'] = num // den\n",
    "    pt += 2\n",
    "    return regs, pt, state\n",
    "\n",
    "# The cdv instruction (opcode 7) works exactly like the adv instruction except that the result is stored in the C register. \n",
    "# (The numerator is still read from the A register.)\n",
    "def cdv(o, regs, pt, state):\n",
    "    num, den = regs['A'], (1 << combo(o, regs))\n",
    "    regs['C'] = num // den\n",
    "    pt += 2\n",
    "    return regs, pt, state\n",
    "\n",
    "INS = {0: adv, 1: bxl, 2: bst, 3: jnz, 4: bxc, 5: out, 6: bdv, 7: cdv}"
   ]
  },
  {
   "cell_type": "markdown",
   "metadata": {},
   "source": [
    "Part 1"
   ]
  },
  {
   "cell_type": "code",
   "execution_count": 33,
   "metadata": {},
   "outputs": [
    {
     "data": {
      "text/plain": [
       "'1,0,2,0,5,7,2,1,3'"
      ]
     },
     "execution_count": 33,
     "metadata": {},
     "output_type": "execute_result"
    }
   ],
   "source": [
    "regs = deepcopy(REGS)\n",
    "prog = PROG\n",
    "state = \"\"\n",
    "pt = 0\n",
    "\n",
    "while pt < len(prog)-1:\n",
    "    oc = prog[pt]\n",
    "    o = prog[pt+1]\n",
    "    regs, pt, state = INS[oc](o, regs, pt, state)\n",
    "\n",
    "\",\".join(list(state))"
   ]
  },
  {
   "cell_type": "markdown",
   "metadata": {},
   "source": [
    "Part 2"
   ]
  },
  {
   "cell_type": "code",
   "execution_count": null,
   "metadata": {},
   "outputs": [],
   "source": [
    "prog = PROG\n",
    "orig_state = \"\".join([str(p) for p in prog])\n",
    "\n",
    "i = 0\n",
    "is_orig = False\n",
    "while i < 100_000_000:\n",
    "    regs = {\"A\": i, \"B\": 0, \"C\": 0}\n",
    "    state = \"\"\n",
    "    pt = 0\n",
    "    while pt < len(prog)-1:\n",
    "        is_diff = False\n",
    "        oc = prog[pt]\n",
    "        o = prog[pt+1]\n",
    "        regs, pt, state = INS[oc](o, regs, pt, state)\n",
    "        for k in range(min(len(state), len(orig_state))):\n",
    "            if state[k] != orig_state[k]:\n",
    "                is_diff = True\n",
    "                break\n",
    "        if is_diff:\n",
    "            break\n",
    "    if state == orig_state:\n",
    "        print(\"Halt with i \", i)\n",
    "        break\n",
    "    if i % 1_000_000 == 0:\n",
    "        print(i)\n",
    "    i += 1"
   ]
  },
  {
   "cell_type": "code",
   "execution_count": null,
   "metadata": {},
   "outputs": [],
   "source": [
    "# 2,4,1,7,7,5,0,3,1,7,4,1,5,5,3,0\n"
   ]
  }
 ],
 "metadata": {
  "kernelspec": {
   "display_name": "data_venv",
   "language": "python",
   "name": "python3"
  },
  "language_info": {
   "codemirror_mode": {
    "name": "ipython",
    "version": 3
   },
   "file_extension": ".py",
   "mimetype": "text/x-python",
   "name": "python",
   "nbconvert_exporter": "python",
   "pygments_lexer": "ipython3",
   "version": "3.12.0"
  }
 },
 "nbformat": 4,
 "nbformat_minor": 2
}
