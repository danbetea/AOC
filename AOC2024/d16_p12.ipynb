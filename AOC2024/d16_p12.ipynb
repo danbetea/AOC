{
 "cells": [
  {
   "cell_type": "code",
   "execution_count": 158,
   "metadata": {},
   "outputs": [],
   "source": [
    "from queue import PriorityQueue as PQ\n",
    "from copy import deepcopy\n",
    "\n",
    "\n",
    "import networkx as nx"
   ]
  },
  {
   "cell_type": "code",
   "execution_count": 66,
   "metadata": {},
   "outputs": [],
   "source": [
    "INPUT_TEST_ = \"\"\"###############\n",
    "#.......#....E#\n",
    "#.#.###.#.###.#\n",
    "#.....#.#...#.#\n",
    "#.###.#####.#.#\n",
    "#.#.#.......#.#\n",
    "#.#.#####.###.#\n",
    "#...........#.#\n",
    "###.#.#####.#.#\n",
    "#...#.....#.#.#\n",
    "#.#.#.###.#.#.#\n",
    "#.....#...#.#.#\n",
    "#.###.#.#.#.#.#\n",
    "#S..#.....#...#\n",
    "###############\"\"\"\n",
    "MAP_TEST = [list(s) for s in INPUT_TEST_.split('\\n')]\n",
    "\n",
    "INPUT_TEST_1_ = \"\"\"#################\n",
    "#...#...#...#..E#\n",
    "#.#.#.#.#.#.#.#.#\n",
    "#.#.#.#...#...#.#\n",
    "#.#.#.#.###.#.#.#\n",
    "#...#.#.#.....#.#\n",
    "#.#.#.#.#.#####.#\n",
    "#.#...#.#.#.....#\n",
    "#.#.#####.#.###.#\n",
    "#.#.#.......#...#\n",
    "#.#.###.#####.###\n",
    "#.#.#...#.....#.#\n",
    "#.#.#.#####.###.#\n",
    "#.#.#.........#.#\n",
    "#.#.#.#########.#\n",
    "#S#.............#\n",
    "#################\"\"\"\n",
    "MAP_TEST_1 = [list(s) for s in INPUT_TEST_1_.split('\\n')]\n",
    "\n",
    "with open('d16_in.txt', 'r') as f:\n",
    "    INPUT_ = f.read()\n",
    "MAP = [list(s) for s in INPUT_.split('\\n')]"
   ]
  },
  {
   "cell_type": "code",
   "execution_count": 162,
   "metadata": {},
   "outputs": [],
   "source": [
    "BLACK = '\\033[30m'\n",
    "RED = '\\033[31m'\n",
    "GREEN = '\\033[32m'\n",
    "YELLOW = '\\033[33m' # orange on some systems\n",
    "BLUE = '\\033[34m'\n",
    "MAGENTA = '\\033[35m'\n",
    "CYAN = '\\033[36m'\n",
    "LIGHT_GRAY = '\\033[37m'\n",
    "DARK_GRAY = '\\033[90m'\n",
    "BRIGHT_RED = '\\033[91m'\n",
    "BRIGHT_GREEN = '\\033[92m'\n",
    "BRIGHT_YELLOW = '\\033[93m'\n",
    "BRIGHT_BLUE = '\\033[94m'\n",
    "BRIGHT_MAGENTA = '\\033[95m'\n",
    "BRIGHT_CYAN = '\\033[96m'\n",
    "WHITE = '\\033[97m'\n",
    "RESET = '\\033[0m' # return to standard terminal text color\n",
    "\n",
    "def color_map(map_):\n",
    "    new_map = deepcopy(map_)\n",
    "    for i in range(len(map_)):\n",
    "        for j in range(len(map_[0])):\n",
    "            c = map_[i][j]\n",
    "            if c == '#':\n",
    "                new_map[i][j] = DARK_GRAY+c\n",
    "            elif c == '.':\n",
    "                new_map[i][j] = BRIGHT_BLUE+c\n",
    "            elif c in '<>^vO':\n",
    "                new_map[i][j] = BRIGHT_YELLOW+c\n",
    "    return new_map"
   ]
  },
  {
   "cell_type": "code",
   "execution_count": 133,
   "metadata": {},
   "outputs": [],
   "source": [
    "def get_start(map_):\n",
    "    for i in range(len(map_)):\n",
    "        for j in range(len(map_[0])):\n",
    "            if map_[i][j] == 'S':\n",
    "                return (i, j)\n",
    "    return (-1, -1)\n",
    "\n",
    "def get_end(map_):\n",
    "    for i in range(len(map_)):\n",
    "        for j in range(len(map_[0])):\n",
    "            if map_[i][j] == 'E':\n",
    "                return (i, j)\n",
    "    return (-1, -1)\n",
    "\n",
    "def get_nbh_cost(nb_t, map_):\n",
    "    v, d = nb_t\n",
    "    i, j = v\n",
    "    match d:\n",
    "        case '^':\n",
    "            nb_c = [((i-1, j), '^', 1), ((i, j), '>', 1000), ((i, j), '<', 1000)]\n",
    "        case 'v':\n",
    "            nb_c = [((i+1, j), 'v', 1), ((i, j), '>', 1000), ((i, j), '<', 1000)]\n",
    "        case '>':\n",
    "            nb_c = [((i, j+1), '>', 1), ((i, j), '^', 1000), ((i, j), 'v', 1000)]\n",
    "        case '<':\n",
    "            nb_c = [((i, j-1), '<', 1), ((i, j), '^', 1000), ((i, j), 'v', 1000)]\n",
    "    return [\n",
    "        nb for nb in nb_c\n",
    "        if map_[nb[0][0]][nb[0][1]] != '#'\n",
    "    ]"
   ]
  },
  {
   "cell_type": "markdown",
   "metadata": {},
   "source": [
    "Part 1"
   ]
  },
  {
   "cell_type": "code",
   "execution_count": 98,
   "metadata": {},
   "outputs": [],
   "source": [
    "BIG_NUM = (1 << 31) -1"
   ]
  },
  {
   "cell_type": "code",
   "execution_count": 94,
   "metadata": {},
   "outputs": [],
   "source": [
    "def dij(map_):\n",
    "\n",
    "    dist = {((i, j), d): BIG_NUM\n",
    "        for i in range(1, len(map_)-1)\n",
    "        for j in range(1, len(map_[0])-1)\n",
    "        for d in \"^v><\"}\n",
    "    pred = {((i, j), d): None\n",
    "        for i in range(1, len(map_)-1)\n",
    "        for j in range(1, len(map_[0])-1)\n",
    "        for d in \"^v><\"}\n",
    "\n",
    "    Q = PQ()\n",
    "    s_ = get_start(map_)\n",
    "    s = (s_, '>')\n",
    "    dist[s] = 0\n",
    "\n",
    "    Q.put((0, s))\n",
    "    for v in dist:\n",
    "        if v != s:\n",
    "            Q.put((BIG_NUM, v))\n",
    "\n",
    "    e_ = get_end(map_)\n",
    "    ends = [(e_, d) for d in '^v><']\n",
    "\n",
    "    mins = []\n",
    "    while not Q.empty():\n",
    "        dist_u, u = Q.get()\n",
    "        if u in ends:\n",
    "            mins.append((dist_u, u))\n",
    "        if len(mins) == 4:\n",
    "            break\n",
    "        for nb_t in get_nbh_cost(u, map_):\n",
    "            v, cost = (nb_t[0], nb_t[1]), nb_t[2]\n",
    "            alt = dist_u + cost\n",
    "            if alt < dist[v]:\n",
    "                pred[v] = u\n",
    "                dist[v] = alt\n",
    "                Q.put((alt, v))\n",
    "    return mins, pred, dist"
   ]
  },
  {
   "cell_type": "code",
   "execution_count": 185,
   "metadata": {},
   "outputs": [
    {
     "data": {
      "text/plain": [
       "82460"
      ]
     },
     "execution_count": 185,
     "metadata": {},
     "output_type": "execute_result"
    }
   ],
   "source": [
    "map_ = MAP\n",
    "\n",
    "mins, pred, dist = dij(map_)\n",
    "min(mins)[0]"
   ]
  },
  {
   "cell_type": "markdown",
   "metadata": {},
   "source": [
    "Part 2"
   ]
  },
  {
   "cell_type": "code",
   "execution_count": null,
   "metadata": {},
   "outputs": [
    {
     "name": "stdout",
     "output_type": "stream",
     "text": [
      "590\n"
     ]
    }
   ],
   "source": [
    "G = nx.DiGraph()\n",
    "\n",
    "st_ = get_start(map_)\n",
    "start = (st_, '>')\n",
    "\n",
    "end = min(mins)[1]\n",
    "\n",
    "for i in range(1, len(map_)-1):\n",
    "    for j in range(1, len(map_[0])-1):\n",
    "        if map_[i][j] == '#':\n",
    "            continue\n",
    "        else:\n",
    "            for d in \"><^v\":\n",
    "                u = ((i, j), d)\n",
    "                if d == '>':\n",
    "                    G.add_edge(u, ((i, j), '^'), weight=1000)\n",
    "                    G.add_edge(u, ((i, j), 'v'), weight=1000)\n",
    "                    if map_[i][j+1] != '#':\n",
    "                        G.add_edge(u, ((i, j+1), '>'), weight=1)\n",
    "                elif d == '<':\n",
    "                    G.add_edge(u, ((i, j), '^'), weight=1000)\n",
    "                    G.add_edge(u, ((i, j), 'v'), weight=1000)\n",
    "                    if map_[i][j-1] != '#':\n",
    "                        G.add_edge(u, ((i, j-1), '<'), weight=1)\n",
    "                elif d == '^':\n",
    "                    G.add_edge(u, ((i, j), '<'), weight=1000)\n",
    "                    G.add_edge(u, ((i, j), '>'), weight=1000)\n",
    "                    if map_[i-1][j] != '#':\n",
    "                        G.add_edge(u, ((i-1, j), '^'), weight=1)\n",
    "                elif d == 'v':\n",
    "                    G.add_edge(u, ((i, j), '<'), weight=1000)\n",
    "                    G.add_edge(u, ((i, j), '>'), weight=1000)\n",
    "                    if map_[i+1][j] != '#':\n",
    "                        G.add_edge(u, ((i+1, j), 'v'), weight=1)\n",
    "\n",
    "min_set = set()\n",
    "for idx, p in enumerate(nx.all_shortest_paths(G, source=start, target=end, weight='weight')):\n",
    "    for pt_ in p:\n",
    "        min_set.add(pt_[0])\n",
    "\n",
    "print(len(min_set))"
   ]
  },
  {
   "cell_type": "code",
   "execution_count": null,
   "metadata": {},
   "outputs": [],
   "source": []
  }
 ],
 "metadata": {
  "kernelspec": {
   "display_name": "data_venv",
   "language": "python",
   "name": "python3"
  },
  "language_info": {
   "codemirror_mode": {
    "name": "ipython",
    "version": 3
   },
   "file_extension": ".py",
   "mimetype": "text/x-python",
   "name": "python",
   "nbconvert_exporter": "python",
   "pygments_lexer": "ipython3",
   "version": "3.12.0"
  }
 },
 "nbformat": 4,
 "nbformat_minor": 2
}
