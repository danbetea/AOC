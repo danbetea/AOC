{
 "cells": [
  {
   "cell_type": "code",
   "execution_count": 44,
   "metadata": {},
   "outputs": [],
   "source": [
    "from functools import cache, cmp_to_key"
   ]
  },
  {
   "cell_type": "code",
   "execution_count": 45,
   "metadata": {},
   "outputs": [],
   "source": [
    "INPUT_TEST_ = \"\"\"r, wr, b, g, bwu, rb, gb, br\n",
    "\n",
    "brwrr\n",
    "bggr\n",
    "gbbr\n",
    "rrbgbr\n",
    "ubwu\n",
    "bwurrg\n",
    "brgr\n",
    "bbrgwb\"\"\"\n",
    "PATT_TEST, TOW_TEST = INPUT_TEST_.split('\\n\\n')\n",
    "PATT_TEST = PATT_TEST.split(', ')\n",
    "TOW_TEST = TOW_TEST.split('\\n')\n",
    "\n",
    "with open('d19_in.txt', 'r') as f:\n",
    "    INPUT_ = f.read()\n",
    "PATT, TOW = INPUT_.split('\\n\\n')\n",
    "PATT = PATT.split(', ')\n",
    "TOW = TOW.split('\\n')"
   ]
  },
  {
   "cell_type": "code",
   "execution_count": 46,
   "metadata": {},
   "outputs": [],
   "source": [
    "def s_fn(s1, s2):\n",
    "    if len(s1) > len(s2):\n",
    "        return 1\n",
    "    elif len(s1) == len(s2):\n",
    "        if s1 > s2:\n",
    "            return 1\n",
    "        elif s1 < s2:\n",
    "            return -1\n",
    "        else:\n",
    "            return 0\n",
    "    else:\n",
    "        return -1"
   ]
  },
  {
   "cell_type": "code",
   "execution_count": 47,
   "metadata": {},
   "outputs": [],
   "source": [
    "@cache\n",
    "def match(ps: tuple[str], s: str) -> bool:\n",
    "    if s == \"\":\n",
    "        return True\n",
    "    if not ps and s:\n",
    "        return False\n",
    "    for i, p in enumerate(ps):\n",
    "        if s.startswith(p):\n",
    "            new_s = s[len(p):]\n",
    "            rest_ps = ps[i+1:]\n",
    "            return match(ps, new_s) or match(rest_ps, s)\n",
    "    return False\n",
    "\n",
    "@cache\n",
    "def match_2(ps: tuple[str], s: str) -> bool:\n",
    "    if s in ps:\n",
    "        return True\n",
    "    for i in range(1, len(s)):\n",
    "        if s[:i] in ps and match_2(ps, s[i:]):\n",
    "            return True\n",
    "    return False\n",
    "\n",
    "@cache\n",
    "def count(ps: tuple[str], s: str) -> int:\n",
    "    total = 0\n",
    "    if s in ps:\n",
    "        total += 1        \n",
    "    for i in range(1, len(s)):\n",
    "        if s[:i] in ps and match_2(ps, s[i:]):\n",
    "            total += count(ps, s[i:])\n",
    "    return total"
   ]
  },
  {
   "cell_type": "markdown",
   "metadata": {},
   "source": [
    "Part 1"
   ]
  },
  {
   "cell_type": "code",
   "execution_count": 48,
   "metadata": {},
   "outputs": [
    {
     "data": {
      "text/plain": [
       "311"
      ]
     },
     "execution_count": 48,
     "metadata": {},
     "output_type": "execute_result"
    }
   ],
   "source": [
    "# patt = sorted(PATT_TEST, key=cmp_to_key(s_fn), reverse=True)\n",
    "# ps = tuple(patt)\n",
    "# ss = TOW_TEST\n",
    "\n",
    "patt = sorted(PATT, key=cmp_to_key(s_fn), reverse=True)\n",
    "ps = tuple(patt)\n",
    "ss = TOW\n",
    "\n",
    "cnt = 0\n",
    "for idx, s in enumerate(ss):\n",
    "    if match(ps, s):\n",
    "        cnt += 1\n",
    "cnt"
   ]
  },
  {
   "cell_type": "markdown",
   "metadata": {},
   "source": [
    "Part 2"
   ]
  },
  {
   "cell_type": "code",
   "execution_count": 49,
   "metadata": {},
   "outputs": [
    {
     "data": {
      "text/plain": [
       "616234236468263"
      ]
     },
     "execution_count": 49,
     "metadata": {},
     "output_type": "execute_result"
    }
   ],
   "source": [
    "# patt = sorted(PATT_TEST, key=cmp_to_key(s_fn), reverse=True)\n",
    "# ps = tuple(patt)\n",
    "# ss = TOW_TEST\n",
    "\n",
    "patt = sorted(PATT, key=cmp_to_key(s_fn), reverse=True)\n",
    "ps = tuple(patt)\n",
    "ss = TOW\n",
    "\n",
    "\n",
    "cnt = 0\n",
    "for idx, s in enumerate(ss):\n",
    "    cnt += count(ps, s)\n",
    "cnt"
   ]
  },
  {
   "cell_type": "code",
   "execution_count": null,
   "metadata": {},
   "outputs": [],
   "source": []
  }
 ],
 "metadata": {
  "kernelspec": {
   "display_name": "data_venv",
   "language": "python",
   "name": "python3"
  },
  "language_info": {
   "codemirror_mode": {
    "name": "ipython",
    "version": 3
   },
   "file_extension": ".py",
   "mimetype": "text/x-python",
   "name": "python",
   "nbconvert_exporter": "python",
   "pygments_lexer": "ipython3",
   "version": "3.12.0"
  }
 },
 "nbformat": 4,
 "nbformat_minor": 2
}
