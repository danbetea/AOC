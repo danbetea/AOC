{
 "cells": [
  {
   "cell_type": "code",
   "execution_count": 33,
   "metadata": {},
   "outputs": [],
   "source": [
    "import numpy as np"
   ]
  },
  {
   "cell_type": "code",
   "execution_count": 21,
   "metadata": {},
   "outputs": [],
   "source": [
    "INPUT_TEST_ = \"\"\"1\n",
    "10\n",
    "100\n",
    "2024\"\"\"\n",
    "INPUT_TEST = [int(i) for i in INPUT_TEST_.split('\\n')]\n",
    "\n",
    "with open('d22_in.txt', 'r') as f:\n",
    "    INPUT_ = f.read()\n",
    "INPUT = [int(i) for i in INPUT_.split('\\n')]"
   ]
  },
  {
   "cell_type": "code",
   "execution_count": 28,
   "metadata": {},
   "outputs": [],
   "source": [
    "# In particular, each buyer's secret number evolves into the next secret number in the sequence via the following process:\n",
    "\n",
    "# Calculate the result of multiplying the secret number by 64. \n",
    "# Then, mix this result into the secret number. Finally, prune the secret number.\n",
    "# Calculate the result of dividing the secret number by 32. \n",
    "# Round the result down to the nearest integer. Then, mix this result into the secret number. Finally, prune the secret number.\n",
    "# Calculate the result of multiplying the secret number by 2048. \n",
    "# Then, mix this result into the secret number. Finally, prune the secret number.\n",
    "\n",
    "# To mix a value into the secret number, calculate the bitwise XOR of the given value and the secret number. \n",
    "# To prune the secret number, calculate the value of the secret number modulo 16777216 = 2**24. \n",
    "\n",
    "def mutate(n : int) -> int:\n",
    "    mod_num = (1 << 24) - 1\n",
    "    m = n << 6\n",
    "    n = m ^ n\n",
    "    n = n & mod_num\n",
    "\n",
    "    m = n >> 5\n",
    "    n = m ^ n\n",
    "    n = n & mod_num\n",
    "    \n",
    "    m = n << 11\n",
    "    n = m ^ n\n",
    "    n = n & mod_num\n",
    "\n",
    "    return n"
   ]
  },
  {
   "cell_type": "markdown",
   "metadata": {},
   "source": [
    "Part 1"
   ]
  },
  {
   "cell_type": "code",
   "execution_count": 29,
   "metadata": {},
   "outputs": [
    {
     "name": "stdout",
     "output_type": "stream",
     "text": [
      "15887950\n",
      "16495136\n",
      "527345\n",
      "704524\n",
      "1553684\n",
      "12683156\n",
      "11100544\n",
      "12249484\n",
      "7753432\n",
      "5908254\n"
     ]
    }
   ],
   "source": [
    "n = 123\n",
    "for i in range(10):\n",
    "    n = mutate(n)\n",
    "    print(n)\n"
   ]
  },
  {
   "cell_type": "code",
   "execution_count": 31,
   "metadata": {},
   "outputs": [
    {
     "data": {
      "text/plain": [
       "15608699004"
      ]
     },
     "execution_count": 31,
     "metadata": {},
     "output_type": "execute_result"
    }
   ],
   "source": [
    "total = 0\n",
    "for n in INPUT:\n",
    "    for i in range(2000):\n",
    "        n = mutate(n)\n",
    "    total += n\n",
    "total"
   ]
  },
  {
   "cell_type": "markdown",
   "metadata": {},
   "source": [
    "Part 2"
   ]
  },
  {
   "cell_type": "code",
   "execution_count": 44,
   "metadata": {},
   "outputs": [],
   "source": [
    "def last_d(n: int, length: int) -> tuple[list[int], list[int]]:\n",
    "    lds = [0 for _ in range(length)]\n",
    "    lds[0] = int(str(n)[-1])\n",
    "    for i in range(1, length):\n",
    "        n = mutate(n)\n",
    "        lds[i] = int(str(n)[-1])\n",
    "    diffs = [0] + np.diff(np.array(lds)).tolist()\n",
    "    return lds, diffs"
   ]
  },
  {
   "cell_type": "code",
   "execution_count": 57,
   "metadata": {},
   "outputs": [
    {
     "data": {
      "text/plain": [
       "1791"
      ]
     },
     "execution_count": 57,
     "metadata": {},
     "output_type": "execute_result"
    }
   ],
   "source": [
    "MAX_ITER = 2000\n",
    "\n",
    "max_window = {}\n",
    "\n",
    "for idx, n in enumerate(INPUT):\n",
    "    seen = set()\n",
    "\n",
    "    lds, diffs = last_d(n, MAX_ITER + 1)\n",
    "    for j in range(1, len(lds)-4):\n",
    "        w = tuple(diffs[j:j+4])\n",
    "\n",
    "        if w[-1] < 0:\n",
    "            continue\n",
    "\n",
    "        if w in seen:\n",
    "            continue\n",
    "        \n",
    "        if w in max_window:\n",
    "            max_window[w] += lds[j+3]\n",
    "        else:\n",
    "            max_window[w] = lds[j+3]\n",
    "\n",
    "        seen.add(w)\n",
    "\n",
    "max(max_window.values())"
   ]
  }
 ],
 "metadata": {
  "kernelspec": {
   "display_name": "data_venv",
   "language": "python",
   "name": "python3"
  },
  "language_info": {
   "codemirror_mode": {
    "name": "ipython",
    "version": 3
   },
   "file_extension": ".py",
   "mimetype": "text/x-python",
   "name": "python",
   "nbconvert_exporter": "python",
   "pygments_lexer": "ipython3",
   "version": "3.12.0"
  }
 },
 "nbformat": 4,
 "nbformat_minor": 2
}
