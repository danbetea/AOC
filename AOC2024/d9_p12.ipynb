{
 "cells": [
  {
   "cell_type": "code",
   "execution_count": 15,
   "metadata": {},
   "outputs": [],
   "source": [
    "import numpy as np"
   ]
  },
  {
   "cell_type": "code",
   "execution_count": 58,
   "metadata": {},
   "outputs": [],
   "source": [
    "INPUT_TEST = \"\"\"2333133121414131402\"\"\"\n",
    "INPUT_TEST_2 = \"\"\"12345\"\"\"\n",
    "INPUT_TEST_3 = \"\"\"1234\"\"\"\n",
    "\n",
    "with open('d9_in.txt', 'r') as f:\n",
    "    INPUT = f.read()"
   ]
  },
  {
   "cell_type": "code",
   "execution_count": 91,
   "metadata": {},
   "outputs": [],
   "source": [
    "def split(s: str):\n",
    "    return s[0::2], s[1::2]\n",
    "\n",
    "def expand(blocks, free_space):\n",
    "    disk = []\n",
    "    for i in range(len(blocks)):\n",
    "        disk += int(blocks[i])*[i]\n",
    "        if i < len(free_space):\n",
    "            disk += int(free_space[i])*[\".\"]\n",
    "    return disk"
   ]
  },
  {
   "cell_type": "markdown",
   "metadata": {},
   "source": [
    "Part 1"
   ]
  },
  {
   "cell_type": "code",
   "execution_count": 87,
   "metadata": {},
   "outputs": [],
   "source": [
    "blocks, free_space = split(INPUT)\n",
    "init_disk = expand(blocks, free_space)\n",
    "id_np = np.array(init_disk)\n",
    "free_pos_lst = np.where(id_np == '.')[0].tolist()\n",
    "\n",
    "id_lst = list(init_disk)\n",
    "while free_pos_lst:\n",
    "    fp = free_pos_lst[0]\n",
    "    symb = id_lst.pop()\n",
    "    if symb == '.':\n",
    "        free_pos_lst.pop()\n",
    "        continue\n",
    "    id_lst[fp] = symb\n",
    "    free_pos_lst = free_pos_lst[1:]"
   ]
  },
  {
   "cell_type": "code",
   "execution_count": 88,
   "metadata": {},
   "outputs": [
    {
     "data": {
      "text/plain": [
       "6401092019345"
      ]
     },
     "execution_count": 88,
     "metadata": {},
     "output_type": "execute_result"
    }
   ],
   "source": [
    "total = 0\n",
    "for i, d in enumerate(id_lst):\n",
    "    total += i*int(d)\n",
    "total"
   ]
  },
  {
   "cell_type": "markdown",
   "metadata": {},
   "source": [
    "Part 2"
   ]
  },
  {
   "cell_type": "code",
   "execution_count": 120,
   "metadata": {},
   "outputs": [],
   "source": [
    "def expand_2(blocks, free_space):\n",
    "    disk = []\n",
    "    files = []\n",
    "    non_files = []\n",
    "    for i in range(len(blocks)):\n",
    "        pos = len(disk)\n",
    "        fb = int(blocks[i])*[str(i)]\n",
    "        disk += fb\n",
    "        if (l := len(fb)) > 0:\n",
    "            files.append([pos, l, str(i)])\n",
    "        if i < len(free_space):\n",
    "            pos = len(disk)\n",
    "            nfb = int(free_space[i])*[\".\"]\n",
    "            disk += nfb\n",
    "            if (l := len(nfb)) > 0: \n",
    "                non_files.append([pos, l, \".\"])\n",
    "    return disk, files, non_files"
   ]
  },
  {
   "cell_type": "code",
   "execution_count": null,
   "metadata": {},
   "outputs": [],
   "source": [
    "blocks, free_space = split(INPUT)\n",
    "disk, files, non_files = expand_2(blocks, free_space)\n",
    "\n",
    "fi = len(files) - 1\n",
    "is_movable = [True for i in range(len(files))]\n",
    "while fi > 0:\n",
    "    if not is_movable[fi]:\n",
    "        fi -= 1\n",
    "        continue\n",
    "\n",
    "    file = files[fi]\n",
    "    fp, fl, fc = file\n",
    "    for idx, non_file in enumerate(non_files):\n",
    "        nfp, nfl, nfc = non_file\n",
    "        # if file too large, skip this empty space\n",
    "        if nfl < fl:\n",
    "            continue\n",
    "        # files only move left\n",
    "        if fp <= nfp:\n",
    "            break\n",
    "        # update disk\n",
    "        for j in range(fl):\n",
    "            # put file into non_file position and vice-versa\n",
    "            disk[nfp+j] = fc\n",
    "            disk[fp+j] = nfc\n",
    "        # update non_files\n",
    "        non_files[idx] = [nfp + fl, nfl - fl, '.']\n",
    "        break\n",
    "\n",
    "    is_movable[fi] = False\n",
    "    # can't touch file with index fi anymore\n",
    "    fi -= 1  # move to next file"
   ]
  },
  {
   "cell_type": "code",
   "execution_count": 152,
   "metadata": {},
   "outputs": [
    {
     "data": {
      "text/plain": [
       "6431472344710"
      ]
     },
     "execution_count": 152,
     "metadata": {},
     "output_type": "execute_result"
    }
   ],
   "source": [
    "total = 0\n",
    "for i, d in enumerate(disk):\n",
    "    if d != '.':\n",
    "        total += i*int(d)\n",
    "total"
   ]
  }
 ],
 "metadata": {
  "kernelspec": {
   "display_name": "data_venv",
   "language": "python",
   "name": "python3"
  },
  "language_info": {
   "codemirror_mode": {
    "name": "ipython",
    "version": 3
   },
   "file_extension": ".py",
   "mimetype": "text/x-python",
   "name": "python",
   "nbconvert_exporter": "python",
   "pygments_lexer": "ipython3",
   "version": "3.12.0"
  }
 },
 "nbformat": 4,
 "nbformat_minor": 2
}
