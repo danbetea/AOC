{
 "cells": [
  {
   "cell_type": "code",
   "execution_count": 20,
   "metadata": {},
   "outputs": [],
   "source": [
    "from copy import deepcopy\n",
    "\n",
    "\n",
    "import networkx as nx\n",
    "import graphviz"
   ]
  },
  {
   "cell_type": "code",
   "execution_count": 18,
   "metadata": {},
   "outputs": [],
   "source": [
    "def AND(x, y):\n",
    "    return x & y\n",
    "def OR(x, y):\n",
    "    return x | y\n",
    "def XOR(x, y):\n",
    "    return x ^ y\n",
    "\n",
    "FNS_DICT = {'AND': AND, 'OR': OR, 'XOR': XOR}"
   ]
  },
  {
   "cell_type": "code",
   "execution_count": 78,
   "metadata": {},
   "outputs": [],
   "source": [
    "INPUT_TEST_ = \"\"\"x00: 1\n",
    "x01: 0\n",
    "x02: 1\n",
    "x03: 1\n",
    "x04: 0\n",
    "y00: 1\n",
    "y01: 1\n",
    "y02: 1\n",
    "y03: 1\n",
    "y04: 1\n",
    "\n",
    "ntg XOR fgs -> mjb\n",
    "y02 OR x01 -> tnw\n",
    "kwq OR kpj -> z05\n",
    "x00 OR x03 -> fst\n",
    "tgd XOR rvg -> z01\n",
    "vdt OR tnw -> bfw\n",
    "bfw AND frj -> z10\n",
    "ffh OR nrd -> bqk\n",
    "y00 AND y03 -> djm\n",
    "y03 OR y00 -> psh\n",
    "bqk OR frj -> z08\n",
    "tnw OR fst -> frj\n",
    "gnj AND tgd -> z11\n",
    "bfw XOR mjb -> z00\n",
    "x03 OR x00 -> vdt\n",
    "gnj AND wpb -> z02\n",
    "x04 AND y00 -> kjc\n",
    "djm OR pbm -> qhw\n",
    "nrd AND vdt -> hwm\n",
    "kjc AND fst -> rvg\n",
    "y04 OR y02 -> fgs\n",
    "y01 AND x02 -> pbm\n",
    "ntg OR kjc -> kwq\n",
    "psh XOR fgs -> tgd\n",
    "qhw XOR tgd -> z09\n",
    "pbm OR djm -> kpj\n",
    "x03 XOR y03 -> ffh\n",
    "x00 XOR y04 -> ntg\n",
    "bfw OR bqk -> z06\n",
    "nrd XOR fgs -> wpb\n",
    "frj XOR qhw -> z04\n",
    "bqk OR frj -> z07\n",
    "y03 OR x01 -> nrd\n",
    "hwm AND bqk -> z03\n",
    "tgd XOR rvg -> z12\n",
    "tnw OR pbm -> gnj\"\"\"\n",
    "INPUTS_TEST, GATES_TEST_ = INPUT_TEST_.split(\"\\n\\n\")\n",
    "INPUTS_TEST = INPUTS_TEST.split('\\n')\n",
    "VARS_TEST = {s.split(': ')[0]: int(s.split(': ')[1]) for s in INPUTS_TEST}\n",
    "GATES_TEST_ = GATES_TEST_.split('\\n')\n",
    "GATES_TEST = []\n",
    "PARENTS_TEST = {}\n",
    "FNS_TEST = {}\n",
    "for g in GATES_TEST_:\n",
    "    out = g[-3:]\n",
    "    g = g[:-3].replace(' -> ', '')\n",
    "    in_2 = g[-3:]\n",
    "    g = g[:-4]\n",
    "    in_1 = g[:3]\n",
    "    g = g[4:]\n",
    "    fn = g\n",
    "    if in_1 not in VARS_TEST:\n",
    "        VARS_TEST[in_1] = None\n",
    "    if in_2 not in VARS_TEST:\n",
    "        VARS_TEST[in_2] = None\n",
    "    if out not in VARS_TEST:\n",
    "        VARS_TEST[out] = None\n",
    "    PARENTS_TEST[out] = [in_1, in_2]\n",
    "    FNS_TEST[out] = FNS_DICT[fn]\n",
    "    GATES_TEST.append((fn, in_1, in_2, out))\n",
    "\n",
    "with open('d24_in.txt', 'r') as f:\n",
    "    INPUT_ = f.read()\n",
    "INPUTS_, GATES_ = INPUT_.split(\"\\n\\n\")\n",
    "INPUTS = INPUTS_.split('\\n')\n",
    "VARS = {s.split(': ')[0]: int(s.split(': ')[1]) for s in INPUTS}\n",
    "GATES_ = GATES_.split('\\n')\n",
    "GATES = []\n",
    "PARENTS = {}\n",
    "FNS = {}\n",
    "for g in GATES_:\n",
    "    out = g[-3:]\n",
    "    g = g[:-3].replace(' -> ', '')\n",
    "    in_2 = g[-3:]\n",
    "    g = g[:-4]\n",
    "    in_1 = g[:3]\n",
    "    g = g[4:]\n",
    "    fn = g\n",
    "    if in_1 not in VARS:\n",
    "        VARS[in_1] = None\n",
    "    if in_2 not in VARS:\n",
    "        VARS[in_2] = None\n",
    "    if out not in VARS:\n",
    "        VARS[out] = None\n",
    "    PARENTS[out] = [in_1, in_2]\n",
    "    FNS[out] = FNS_DICT[fn]\n",
    "    GATES.append((fn, in_1, in_2, out))"
   ]
  },
  {
   "cell_type": "code",
   "execution_count": 79,
   "metadata": {},
   "outputs": [],
   "source": [
    "G = nx.DiGraph()\n",
    "\n",
    "# pdict = deepcopy(PARENTS_TEST)\n",
    "# vdict = deepcopy(VARS_TEST)\n",
    "# fndict = deepcopy(FNS_TEST)\n",
    "\n",
    "pdict = deepcopy(PARENTS)\n",
    "vdict = deepcopy(VARS)\n",
    "fndict = deepcopy(FNS)\n",
    "\n",
    "for p in pdict:\n",
    "    G.add_node(p)\n",
    "    G.add_node(pdict[p][0])\n",
    "    G.add_node(pdict[p][1])\n",
    "    G.add_edge(pdict[p][0], p)\n",
    "    G.add_edge(pdict[p][1], p)\n",
    "\n",
    "for idx, g in enumerate(nx.topological_generations(G)):\n",
    "    if idx == 0:\n",
    "        continue\n",
    "    for v in g:\n",
    "        in_1_, in_2_ = pdict[v]\n",
    "        in_1, in_2 = vdict[in_1_], vdict[in_2_]\n",
    "        fn = fndict[v]\n",
    "        vdict[v] = fn(in_1, in_2)"
   ]
  },
  {
   "cell_type": "code",
   "execution_count": 80,
   "metadata": {},
   "outputs": [
    {
     "name": "stdout",
     "output_type": "stream",
     "text": [
      "66055249060558\n"
     ]
    }
   ],
   "source": [
    "keys = sorted([k for k in vdict if k.startswith('z')])\n",
    "print(int(\"\".join([str(vdict[k]) for k in keys][::-1]), 2))"
   ]
  },
  {
   "cell_type": "code",
   "execution_count": 121,
   "metadata": {},
   "outputs": [
    {
     "data": {
      "text/plain": [
       "'Digraph.gv.pdf'"
      ]
     },
     "execution_count": 121,
     "metadata": {},
     "output_type": "execute_result"
    }
   ],
   "source": [
    "# pdict = deepcopy(PARENTS_TEST)\n",
    "# fnsdict = deepcopy(FNS_TEST)\n",
    "# vdict = deepcopy(VARS_TEST)\n",
    "\n",
    "pdict = deepcopy(PARENTS)\n",
    "fnsdict = deepcopy(FNS)\n",
    "vdict = deepcopy(VARS)\n",
    "\n",
    "dot = graphviz.Digraph(comment='Boolean')\n",
    "for v in pdict:\n",
    "    in_1, in_2 = pdict[v][0], pdict[v][1]\n",
    "    if in_1 in pdict:\n",
    "        in_1 = in_1+\", \"+fnsdict[in_1].__name__\n",
    "    else:\n",
    "        in_1 = in_1\n",
    "    if in_2 in pdict:\n",
    "        in_2 = in_2+\", \"+fnsdict[in_2].__name__\n",
    "    else:\n",
    "        in_2 = in_2\n",
    "    out_n = v+\", \"+fnsdict[v].__name__\n",
    "    dot.node(out_n)\n",
    "    dot.node(in_1)\n",
    "    dot.node(in_2)\n",
    "    dot.edge(in_1, out_n)\n",
    "    dot.edge(in_2, out_n)\n",
    "\n",
    "dot.render(view=True)"
   ]
  },
  {
   "cell_type": "markdown",
   "metadata": {},
   "source": [
    "Part 2"
   ]
  },
  {
   "cell_type": "code",
   "execution_count": 73,
   "metadata": {},
   "outputs": [
    {
     "name": "stdout",
     "output_type": "stream",
     "text": [
      "z16 1\n",
      "z00 1\n",
      "z01 2\n",
      "z02 4\n",
      "z03 6\n",
      "z04 8\n",
      "z05 10\n",
      "z06 12\n",
      "z07 14\n",
      "z08 16\n",
      "z09 18\n",
      "z10 20\n",
      "z11 22\n",
      "z12 24\n",
      "z13 26\n",
      "z14 28\n",
      "z15 30\n",
      "z17 34\n",
      "z18 36\n",
      "z19 38\n",
      "z20 40\n",
      "z21 42\n",
      "z22 44\n",
      "z23 46\n",
      "z24 48\n",
      "z25 50\n",
      "z26 52\n",
      "z27 54\n",
      "z28 56\n",
      "z29 58\n",
      "z30 60\n",
      "z31 62\n",
      "z32 64\n",
      "z33 67\n",
      "z34 67\n",
      "z35 69\n",
      "z36 71\n",
      "z37 73\n",
      "z38 75\n",
      "z39 77\n",
      "z40 79\n",
      "z41 81\n",
      "z42 83\n",
      "z43 85\n",
      "z44 87\n",
      "z45 88\n"
     ]
    }
   ],
   "source": [
    "for idx, g in enumerate(nx.topological_generations(G)):\n",
    "    if idx == 0:\n",
    "        continue\n",
    "    for v in g:\n",
    "        if v.startswith('z'):\n",
    "            print(v, idx)\n",
    "        # in_1_, in_2_ = pdict[v]\n",
    "        # in_1, in_2 = vdict[in_1_], vdict[in_2_]\n",
    "        # fn = fndict[v]\n",
    "        # vdict[v] = fn(in_1, in_2)"
   ]
  },
  {
   "cell_type": "code",
   "execution_count": null,
   "metadata": {},
   "outputs": [],
   "source": [
    "s_int_wires = {}\n",
    "c_int_2_wires = {}\n",
    "\n",
    "for i in range(45):\n",
    "    str_i = str(i) if len(str(i)) > 1 else '0'+str(i)\n",
    "    lst = sorted(\n",
    "            [g for g in GATES if (g[1], g[2]) == ('x'+str_i, 'y'+str_i) or (g[1], g[2]) == ('y'+str_i, 'x'+str_i)]\n",
    "        )\n",
    "    if len(lst) != 2:\n",
    "        print(f\"Problem with {str_i}, {lst}, 2 inputs only\")\n",
    "    if lst[0][0] != 'AND' or lst[1][0] != 'XOR':\n",
    "        print(f'Problem with {str_i}, {lst}')\n",
    "    s_int_wires[str_i] = lst[1][3]\n",
    "    c_int_2_wires[str_i] = lst[0][3]"
   ]
  },
  {
   "cell_type": "code",
   "execution_count": 110,
   "metadata": {},
   "outputs": [
    {
     "name": "stdout",
     "output_type": "stream",
     "text": [
      "Problem with 16 y16 x16 z16 in [('AND', 'y16', 'x16', 'z16')]\n",
      "Problem with 20 pns tsc z20 in [('AND', 'pns', 'tsc', 'z20')]\n",
      "Problem with 33 wkw jgr z33 in [('OR', 'wkw', 'jgr', 'z33')]\n"
     ]
    }
   ],
   "source": [
    "s_out_wires = {}\n",
    "\n",
    "for i in range(45):\n",
    "    str_i = str(i) if len(str(i)) > 1 else '0'+str(i)\n",
    "    lst = sorted(\n",
    "        [g for g in GATES if g[3] == 'z'+str_i]\n",
    "    )\n",
    "    if len(lst) > 1:\n",
    "        print(f\"Problem with {str_i} {lst}\")\n",
    "    el = lst[0]\n",
    "    if el[0] != 'XOR':\n",
    "        print(f\"Problem with {str_i} {el[1]} {el[2]} {el[3]} in {lst}\")\n",
    "    else:\n",
    "        s_out_wires[str_i] = el[3]"
   ]
  },
  {
   "cell_type": "code",
   "execution_count": null,
   "metadata": {},
   "outputs": [],
   "source": [
    "s_out_wires = {}\n",
    "\n",
    "for i in range(45):\n",
    "    str_i = str(i) if len(str(i)) > 1 else '0'+str(i)\n",
    "    lst = sorted(\n",
    "        [g for g in GATES if g[3] == 'z'+str_i]\n",
    "    )\n",
    "    if len(lst) > 1:\n",
    "        print(f\"Problem with {str_i} {lst}\")\n",
    "    el = lst[0]\n",
    "    if el[0] != 'XOR':\n",
    "        print(f\"Problem with {str_i} {el[1]} {el[2]} {el[3]} in {lst}\")\n",
    "    else:\n",
    "        s_out_wires[str_i] = el[3]"
   ]
  },
  {
   "cell_type": "code",
   "execution_count": 115,
   "metadata": {},
   "outputs": [
    {
     "name": "stdout",
     "output_type": "stream",
     "text": [
      "Problem with 27 []\n"
     ]
    }
   ],
   "source": [
    "for i in range(1, 45):\n",
    "    str_i = str(i) if len(str(i)) > 1 else '0'+str(i)\n",
    "    input_1 = s_int_wires[str_i]\n",
    "\n",
    "    lst = sorted(\n",
    "        [g for g in GATES if g[0] == 'XOR' and (g[1] == input_1 or g[2] == input_1)]\n",
    "    )\n",
    "    if len(lst) != 1:\n",
    "        print(f\"Problem with {str_i} {lst}\")"
   ]
  },
  {
   "cell_type": "code",
   "execution_count": 120,
   "metadata": {},
   "outputs": [
    {
     "name": "stdout",
     "output_type": "stream",
     "text": [
      "fcd,fhp,hmk,rvf,tpc,z16,z20,z33\n"
     ]
    }
   ],
   "source": [
    "ans = \"fhp z20 hmk z16 fcd z33 rvf tpc\"\n",
    "print(\",\".join(sorted(ans.split(' '))))"
   ]
  },
  {
   "cell_type": "code",
   "execution_count": null,
   "metadata": {},
   "outputs": [],
   "source": []
  }
 ],
 "metadata": {
  "kernelspec": {
   "display_name": "data_venv",
   "language": "python",
   "name": "python3"
  },
  "language_info": {
   "codemirror_mode": {
    "name": "ipython",
    "version": 3
   },
   "file_extension": ".py",
   "mimetype": "text/x-python",
   "name": "python",
   "nbconvert_exporter": "python",
   "pygments_lexer": "ipython3",
   "version": "3.12.0"
  }
 },
 "nbformat": 4,
 "nbformat_minor": 2
}
