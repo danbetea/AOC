{
 "cells": [
  {
   "cell_type": "code",
   "execution_count": 4,
   "metadata": {},
   "outputs": [],
   "source": [
    "from itertools import product"
   ]
  },
  {
   "cell_type": "code",
   "execution_count": 10,
   "metadata": {},
   "outputs": [],
   "source": [
    "INPUT_TEST_ = \"\"\"190: 10 19\n",
    "3267: 81 40 27\n",
    "83: 17 5\n",
    "156: 15 6\n",
    "7290: 6 8 6 15\n",
    "161011: 16 10 13\n",
    "192: 17 8 14\n",
    "21037: 9 7 18 13\n",
    "292: 11 6 16 20\"\"\"\n",
    "INPUT_TEST = []\n",
    "\n",
    "for s in INPUT_TEST_.split('\\n'):\n",
    "    lst = s.split(': ')\n",
    "    res, terms = int(lst[0]), [int(n) for n in lst[1].split(' ')]\n",
    "    INPUT_TEST.append((res, list(reversed(terms)), lst[1]))\n",
    "\n",
    "with open('d7_in.txt', 'r') as f:\n",
    "    INPUT_ = f.read()\n",
    "\n",
    "INPUT = []\n",
    "for s in INPUT_.split('\\n'):\n",
    "    lst = s.split(': ')\n",
    "    res, terms = int(lst[0]), [int(n) for n in lst[1].split(' ')]\n",
    "    INPUT.append((res, list(reversed(terms))))"
   ]
  },
  {
   "cell_type": "code",
   "execution_count": 11,
   "metadata": {},
   "outputs": [],
   "source": [
    "def apply_op(x, y, op):\n",
    "    match op:\n",
    "        case '+':\n",
    "            return x+y\n",
    "        case '*':\n",
    "            return x*y\n",
    "        case 'c':\n",
    "            return int(str(x)+str(y))\n",
    "        case _:\n",
    "            return 0\n",
    "\n",
    "def apply_all(tup, with_concat=False):\n",
    "    res, numbers = tup\n",
    "    if with_concat:\n",
    "        operations_all = product('+*c', repeat=len(numbers)-1)\n",
    "    else:\n",
    "        operations_all = product('+*', repeat=len(numbers)-1)\n",
    "    for operations in operations_all:\n",
    "        nums = numbers[:]\n",
    "        for op in operations:\n",
    "            a, b = nums.pop(), nums.pop()\n",
    "            c = apply_op(a, b, op)\n",
    "            if c > res:\n",
    "                break\n",
    "            nums.append(c)\n",
    "        if len(nums) == 1 and res == nums[0]:\n",
    "            return res\n",
    "    return -1"
   ]
  },
  {
   "cell_type": "markdown",
   "metadata": {},
   "source": [
    "Part 1"
   ]
  },
  {
   "cell_type": "code",
   "execution_count": 12,
   "metadata": {},
   "outputs": [
    {
     "name": "stdout",
     "output_type": "stream",
     "text": [
      "Done with 0\n",
      "Done with 100\n",
      "Done with 200\n",
      "Done with 300\n",
      "Done with 400\n",
      "Done with 500\n",
      "Done with 600\n",
      "Done with 700\n",
      "Done with 800\n",
      "Done with 849\n"
     ]
    },
    {
     "data": {
      "text/plain": [
       "12553187650171"
      ]
     },
     "execution_count": 12,
     "metadata": {},
     "output_type": "execute_result"
    }
   ],
   "source": [
    "total = 0\n",
    "for i, t in enumerate(INPUT):\n",
    "    if (r := apply_all(t)) > -1:\n",
    "        total += r\n",
    "    if i % 100 == 0: print(f\"Done with {i}\")\n",
    "print(f\"Done with {i}\")\n",
    "total"
   ]
  },
  {
   "cell_type": "markdown",
   "metadata": {},
   "source": [
    "Part 2"
   ]
  },
  {
   "cell_type": "code",
   "execution_count": 9,
   "metadata": {},
   "outputs": [
    {
     "name": "stdout",
     "output_type": "stream",
     "text": [
      "Done with 0\n",
      "Done with 100\n",
      "Done with 200\n",
      "Done with 300\n",
      "Done with 400\n",
      "Done with 500\n",
      "Done with 600\n",
      "Done with 700\n",
      "Done with 800\n",
      "Done with 849\n"
     ]
    },
    {
     "data": {
      "text/plain": [
       "96779702119491"
      ]
     },
     "execution_count": 9,
     "metadata": {},
     "output_type": "execute_result"
    }
   ],
   "source": [
    "total = 0\n",
    "for i, t in enumerate(INPUT):\n",
    "    if (r := apply_all(t, with_concat=True)) > -1:\n",
    "        total += r\n",
    "    if i % 100 == 0: print(f\"Done with {i}\")\n",
    "print(f\"Done with {i}\")\n",
    "total\n"
   ]
  },
  {
   "cell_type": "code",
   "execution_count": null,
   "metadata": {},
   "outputs": [],
   "source": []
  }
 ],
 "metadata": {
  "kernelspec": {
   "display_name": "data_venv",
   "language": "python",
   "name": "python3"
  },
  "language_info": {
   "codemirror_mode": {
    "name": "ipython",
    "version": 3
   },
   "file_extension": ".py",
   "mimetype": "text/x-python",
   "name": "python",
   "nbconvert_exporter": "python",
   "pygments_lexer": "ipython3",
   "version": "3.12.0"
  }
 },
 "nbformat": 4,
 "nbformat_minor": 2
}
