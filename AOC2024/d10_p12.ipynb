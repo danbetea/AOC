{
 "cells": [
  {
   "cell_type": "code",
   "execution_count": 30,
   "metadata": {},
   "outputs": [],
   "source": [
    "import numpy as np"
   ]
  },
  {
   "cell_type": "code",
   "execution_count": 36,
   "metadata": {},
   "outputs": [],
   "source": [
    "INPUT_TEST_ = \"\"\"89010123\n",
    "78121874\n",
    "87430965\n",
    "96549874\n",
    "45678903\n",
    "32019012\n",
    "01329801\n",
    "10456732\"\"\"\n",
    "INPUT_TEST = np.array([list(map(int, list(lst)))\n",
    "                       for lst in INPUT_TEST_.split('\\n')])\n",
    "\n",
    "with open('d10_in.txt', 'r') as f:\n",
    "    INPUT_ = f.read()\n",
    "INPUT = np.array([list(map(int, list(lst))) for lst in INPUT_.split('\\n')])"
   ]
  },
  {
   "cell_type": "code",
   "execution_count": 38,
   "metadata": {},
   "outputs": [],
   "source": [
    "def in_bounds(v, map_):\n",
    "    i, j = v\n",
    "    in_bounds = 0 <= i <= len(map_) - 1 and 0 <= j <= len(map_[0]) - 1\n",
    "    return in_bounds\n",
    "\n",
    "def get_nbhs(v, map_):\n",
    "    i, j = v\n",
    "    nbhs = [(i, j-1), (i-1, j), (i, j+1), (i+1, j)]\n",
    "    return [\n",
    "        n for n in nbhs\n",
    "        if in_bounds(n, map_)\n",
    "        and map_[n[0], n[1]] - map_[i, j] == 1\n",
    "    ]\n",
    "\n",
    "def get_start_pos(map_):\n",
    "    return list(zip(\n",
    "        np.where(map_ == 0)[0].tolist(), \n",
    "        np.where(map_ == 0)[1].tolist()\n",
    "    ))\n",
    "\n",
    "def traverse(v, map_, ends=[]):\n",
    "    i, j = v\n",
    "    if map_[i, j] == 9:\n",
    "        ends.append(v)\n",
    "        return\n",
    "    nbhs = get_nbhs(v, map_)\n",
    "    if not nbhs:\n",
    "        return\n",
    "    for n in nbhs:\n",
    "        traverse(n, map_, ends)"
   ]
  },
  {
   "cell_type": "code",
   "execution_count": 39,
   "metadata": {},
   "outputs": [],
   "source": [
    "map_ = INPUT\n",
    "st_pos = get_start_pos(map_)\n",
    "\n",
    "total_p1 = 0\n",
    "total_p2 = 0\n",
    "\n",
    "for s in st_pos:\n",
    "    ends = []\n",
    "    traverse(s, map_, ends)\n",
    "    # good way to learn the difference between a set and a list\n",
    "    total_p1 += len(set(ends))\n",
    "    total_p2 += len(ends)"
   ]
  },
  {
   "cell_type": "markdown",
   "metadata": {},
   "source": [
    "Part 1 "
   ]
  },
  {
   "cell_type": "code",
   "execution_count": 40,
   "metadata": {},
   "outputs": [
    {
     "data": {
      "text/plain": [
       "489"
      ]
     },
     "execution_count": 40,
     "metadata": {},
     "output_type": "execute_result"
    }
   ],
   "source": [
    "total_p1"
   ]
  },
  {
   "cell_type": "markdown",
   "metadata": {},
   "source": [
    "Part 2"
   ]
  },
  {
   "cell_type": "code",
   "execution_count": 35,
   "metadata": {},
   "outputs": [
    {
     "data": {
      "text/plain": [
       "1086"
      ]
     },
     "execution_count": 35,
     "metadata": {},
     "output_type": "execute_result"
    }
   ],
   "source": [
    "total_p2"
   ]
  }
 ],
 "metadata": {
  "kernelspec": {
   "display_name": "gnn_venv",
   "language": "python",
   "name": "python3"
  },
  "language_info": {
   "codemirror_mode": {
    "name": "ipython",
    "version": 3
   },
   "file_extension": ".py",
   "mimetype": "text/x-python",
   "name": "python",
   "nbconvert_exporter": "python",
   "pygments_lexer": "ipython3",
   "version": "3.12.3"
  }
 },
 "nbformat": 4,
 "nbformat_minor": 2
}
