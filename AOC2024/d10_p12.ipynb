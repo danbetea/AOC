{
 "cells": [
  {
   "cell_type": "code",
   "execution_count": 1,
   "metadata": {},
   "outputs": [],
   "source": [
    "import numpy as np"
   ]
  },
  {
   "cell_type": "code",
   "execution_count": null,
   "metadata": {},
   "outputs": [],
   "source": [
    "INPUT_TEST_ = \"\"\"89010123\n",
    "78121874\n",
    "87430965\n",
    "96549874\n",
    "45678903\n",
    "32019012\n",
    "01329801\n",
    "10456732\"\"\"\n",
    "INPUT_TEST = np.array([list(map(int, list(l))) for l in INPUT_TEST_.split('\\n')])\n",
    "\n",
    "with open('d10_in.txt', 'r') as f:\n",
    "    INPUT_ = f.read()\n",
    "INPUT = np.array([list(map(int, list(l))) for l in INPUT_.split('\\n')])"
   ]
  },
  {
   "cell_type": "code",
   "execution_count": 12,
   "metadata": {},
   "outputs": [],
   "source": [
    "def in_bounds(v, map):\n",
    "    i, j = v\n",
    "    in_bounds = 0 <= i <= len(map) - 1 and 0 <= j <= len(map[0]) - 1\n",
    "    return in_bounds\n",
    "\n",
    "def get_nbhs(v, map):\n",
    "    i, j = v\n",
    "    nbhs = [(i, j-1), (i-1, j), (i, j+1), (i+1, j)]\n",
    "    nbhs = [\n",
    "        n for n in nbhs\n",
    "        if in_bounds(n, map)\n",
    "        and map[n[0], n[1]] - map[i, j] == 1\n",
    "    ]\n",
    "    return nbhs\n",
    "\n",
    "def preorder_p1(v, map, term=[]):\n",
    "    if map[v[0], v[1]] == 9:\n",
    "        term.append(v)\n",
    "        return\n",
    "    nbhs = get_nbhs(v, map)\n",
    "    if not nbhs:\n",
    "        return\n",
    "    for nbh in nbhs:\n",
    "        preorder_p1(nbh, map, term)\n",
    "\n",
    "def preorder_p2(v, map):\n",
    "    if map[v[0], v[1]] == 9:\n",
    "        return 1\n",
    "    nbhs = get_nbhs(v, map)\n",
    "    if not nbhs:\n",
    "        return 0\n",
    "    total = 0\n",
    "    for nbh in nbhs:\n",
    "        total += preorder_p2(nbh, map)\n",
    "    return total\n",
    "\n",
    "def get_start_pos(map):\n",
    "    return list(zip(\n",
    "        np.where(map == 0)[0].tolist(), \n",
    "        np.where(map == 0)[1].tolist()\n",
    "    ))"
   ]
  },
  {
   "cell_type": "markdown",
   "metadata": {},
   "source": [
    "Part 1"
   ]
  },
  {
   "cell_type": "code",
   "execution_count": null,
   "metadata": {},
   "outputs": [
    {
     "data": {
      "text/plain": [
       "81"
      ]
     },
     "execution_count": 18,
     "metadata": {},
     "output_type": "execute_result"
    }
   ],
   "source": [
    "map = INPUT_TEST\n",
    "st_pos = get_start_pos(map)\n",
    "\n",
    "total = 0\n",
    "t2 = 0\n",
    "for s in st_pos:\n",
    "    term = []\n",
    "    preorder_p1(s, map, term)\n",
    "    t2 += len(term)\n",
    "    total += len(set(term))\n",
    "\n",
    "total"
   ]
  },
  {
   "cell_type": "markdown",
   "metadata": {},
   "source": [
    "Part 2"
   ]
  },
  {
   "cell_type": "code",
   "execution_count": 17,
   "metadata": {},
   "outputs": [
    {
     "data": {
      "text/plain": [
       "1086"
      ]
     },
     "execution_count": 17,
     "metadata": {},
     "output_type": "execute_result"
    }
   ],
   "source": [
    "map = INPUT\n",
    "st_pos = get_start_pos(map)\n",
    "\n",
    "total = 0\n",
    "for s in st_pos:\n",
    "    total += preorder_p2(s, map)\n",
    "\n",
    "total"
   ]
  },
  {
   "cell_type": "code",
   "execution_count": null,
   "metadata": {},
   "outputs": [],
   "source": []
  }
 ],
 "metadata": {
  "kernelspec": {
   "display_name": "data_venv",
   "language": "python",
   "name": "python3"
  },
  "language_info": {
   "codemirror_mode": {
    "name": "ipython",
    "version": 3
   },
   "file_extension": ".py",
   "mimetype": "text/x-python",
   "name": "python",
   "nbconvert_exporter": "python",
   "pygments_lexer": "ipython3",
   "version": "3.12.0"
  }
 },
 "nbformat": 4,
 "nbformat_minor": 2
}
