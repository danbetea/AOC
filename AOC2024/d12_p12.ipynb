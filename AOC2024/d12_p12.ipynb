{
 "cells": [
  {
   "cell_type": "code",
   "execution_count": 17,
   "metadata": {},
   "outputs": [],
   "source": [
    "import networkx as nx"
   ]
  },
  {
   "cell_type": "code",
   "execution_count": 18,
   "metadata": {},
   "outputs": [],
   "source": [
    "INPUT_TEST_ = \"\"\"RRRRIICCFF\n",
    "RRRRIICCCF\n",
    "VVRRRCCFFF\n",
    "VVRCCCJFFF\n",
    "VVVVCJJCFE\n",
    "VVIVCCJJEE\n",
    "VVIIICJJEE\n",
    "MIIIIIJJEE\n",
    "MIIISIJEEE\n",
    "MMMISSJEEE\"\"\"\n",
    "INPUT_TEST = [list(s) for s in INPUT_TEST_.split('\\n')]\n",
    "\n",
    "INPUT_TEST_1_ = \"\"\"AAAAAA\n",
    "AAABBA\n",
    "AAABBA\n",
    "ABBAAA\n",
    "ABBAAA\n",
    "AAAAAA\"\"\"\n",
    "INPUT_TEST_1 = [list(s) for s in INPUT_TEST_1_.split('\\n')]\n",
    "\n",
    "with open('d12_in.txt', 'r') as f:\n",
    "    INPUT_ = f.read()\n",
    "INPUT = [list(s) for s in INPUT_.split('\\n')]"
   ]
  },
  {
   "cell_type": "code",
   "execution_count": 19,
   "metadata": {},
   "outputs": [],
   "source": [
    "def in_bounds(v, map_):\n",
    "    i, j = v\n",
    "    return 0 <= i <= len(map_)-1 and 0 <= j <= len(map_[0])-1\n",
    "\n",
    "def get_nbhs(v, map_):\n",
    "    i, j = v\n",
    "    nbhs = [(i, j-1), (i-1, j), (i, j+1), (i+1, j)]\n",
    "    nbhs = [n for n in nbhs\n",
    "            if in_bounds(n, map_)\n",
    "            and map_[i][j] == map_[n[0]][n[1]]]\n",
    "    return nbhs"
   ]
  },
  {
   "cell_type": "code",
   "execution_count": 20,
   "metadata": {},
   "outputs": [],
   "source": [
    "def dfs(map_, v, discovered, cc):\n",
    "    cc.add(v)\n",
    "    discovered[v] = True\n",
    "    nbhs = get_nbhs(v, map_)\n",
    "    for n in nbhs:\n",
    "        if not discovered[n]:\n",
    "            dfs(map_, n, discovered, cc)\n",
    "\n",
    "def connected_components(map_):\n",
    "    discovered = {(i, j): False\n",
    "                  for i in range(len(map_))\n",
    "                  for j in range(len(map_[0]))}\n",
    "    available_verts = {v for v in discovered if not discovered[v]}\n",
    "\n",
    "    while available_verts:\n",
    "        v = list(available_verts)[0]\n",
    "        cc = set()\n",
    "        dfs(map_, v, discovered, cc)\n",
    "        available_verts = available_verts - cc\n",
    "        yield cc"
   ]
  },
  {
   "cell_type": "code",
   "execution_count": 21,
   "metadata": {},
   "outputs": [],
   "source": [
    "def compute_cost(cc, map_, p1=True):\n",
    "    perimeter = 0\n",
    "    area = len(cc)\n",
    "    for v in cc:\n",
    "        if p1:\n",
    "            perimeter += 4-len(get_nbhs(v, map_))\n",
    "        else:\n",
    "            perimeter += len(classify_node(v, map_))\n",
    "    return perimeter * area\n",
    "\n",
    "def get_nbhs_and_dirs(v, map_):\n",
    "    i, j = v\n",
    "    nbhs = [((i, j-1), 'W'), ((i-1, j), 'N'), ((i, j+1), 'E'), ((i+1, j), 'S')]\n",
    "    nbhs = [(n, d) for (n, d) in nbhs\n",
    "            if in_bounds(n, map_)\n",
    "            and map_[i][j] == map_[n[0]][n[1]]]\n",
    "    return nbhs\n",
    "\n",
    "def is_corner(v, map_, type_):\n",
    "    i, j = v\n",
    "        \n",
    "    nd_lst = get_nbhs_and_dirs(v, map_)\n",
    "    dirs = [nd[1] for nd in nd_lst]\n",
    "    if type_[0] in dirs and type_[1] in dirs:\n",
    "        match type_:\n",
    "            case 'NW':\n",
    "                w = (i-1, j-1)\n",
    "                c1 = not in_bounds(w, map_)\n",
    "                c2 = map_[w[0]][w[1]] != map_[i][j]\n",
    "                return c1 or c2\n",
    "            case 'SE':\n",
    "                w = (i+1, j+1)\n",
    "                c1 = not in_bounds(w, map_)\n",
    "                c2 = map_[w[0]][w[1]] != map_[i][j]\n",
    "                return c1 or c2\n",
    "            case 'SW':\n",
    "                w = (i+1, j-1)\n",
    "                c1 = not in_bounds(w, map_)\n",
    "                c2 = map_[w[0]][w[1]] != map_[i][j]\n",
    "                return c1 or c2\n",
    "            case 'NE':\n",
    "                w = (i-1, j+1)\n",
    "                c1 = not in_bounds(w, map_)\n",
    "                c2 = map_[w[0]][w[1]] != map_[i][j]\n",
    "                return c1 or c2\n",
    "    elif type_[0] not in dirs and not type_[1] in dirs:\n",
    "        return type_ in ['NW', 'NE', 'SW', 'SE']\n",
    "    return False\n",
    "\n",
    "def classify_node(v, map_):\n",
    "    nd = get_nbhs_and_dirs(v, map_)\n",
    "    dirs_nbhs = [nd_[1] for nd_ in nd]\n",
    "    lst = []\n",
    "    if len(nd) == 1:\n",
    "        n, d = nd[0]\n",
    "        match d:\n",
    "            case 'W':\n",
    "                lst = ['NE', 'SE']\n",
    "            case 'E':\n",
    "                lst = ['NW', 'SW']\n",
    "            case 'N':\n",
    "                lst = ['SE', 'SW']\n",
    "            case 'S':\n",
    "                lst = ['NE', 'NW']\n",
    "    elif len(nd) == 4:\n",
    "        for type_ in ['NW', 'NE', 'SW', 'SE']:\n",
    "            if is_corner(v, map_, type_):\n",
    "                lst.append(type_)\n",
    "    elif len(nd) == 3:\n",
    "        if 'N' not in dirs_nbhs:\n",
    "            for type_ in ['SW', 'SE']:\n",
    "                if is_corner(v, map_, type_):\n",
    "                    lst.append(type_)\n",
    "        elif 'S' not in dirs_nbhs:\n",
    "            for type_ in ['NW', 'NE']:\n",
    "                if is_corner(v, map_, type_):\n",
    "                    lst.append(type_)\n",
    "        elif 'W' not in dirs_nbhs:\n",
    "            for type_ in ['NE', 'SE']:\n",
    "                if is_corner(v, map_, type_):\n",
    "                    lst.append(type_)\n",
    "        elif 'E' not in dirs_nbhs:\n",
    "            for type_ in ['SW', 'NW']:\n",
    "                if is_corner(v, map_, type_):\n",
    "                    lst.append(type_)\n",
    "    elif len(nd) == 2:\n",
    "        if 'N' in dirs_nbhs and 'W' in dirs_nbhs: \n",
    "            if is_corner(v, map_, 'NW'):\n",
    "                lst.append('NW')\n",
    "            if is_corner(v, map_, 'SE'):\n",
    "                lst.append('SE')\n",
    "        elif 'N' in dirs_nbhs and 'E' in dirs_nbhs:\n",
    "            if is_corner(v, map_, 'NE'):\n",
    "                lst.append('NE')\n",
    "            if is_corner(v, map_, 'SW'):\n",
    "                lst.append('SW')\n",
    "        elif 'S' in dirs_nbhs and 'W' in dirs_nbhs:\n",
    "            if is_corner(v, map_, 'SW'):\n",
    "                lst.append('SW')\n",
    "            if is_corner(v, map_, 'NE'):\n",
    "                lst.append('NE')\n",
    "        elif 'S' in dirs_nbhs and 'E' in dirs_nbhs:\n",
    "            if is_corner(v, map_, 'SE'):\n",
    "                lst.append('SE')\n",
    "            if is_corner(v, map_, 'NW'):\n",
    "                lst.append('NW')\n",
    "    elif len(nd) == 0:\n",
    "        lst = ['NW', 'NE', 'SW', 'SE']\n",
    "    return lst"
   ]
  },
  {
   "cell_type": "markdown",
   "metadata": {},
   "source": [
    "Part 1"
   ]
  },
  {
   "cell_type": "code",
   "execution_count": 22,
   "metadata": {},
   "outputs": [
    {
     "data": {
      "text/plain": [
       "1370100"
      ]
     },
     "execution_count": 22,
     "metadata": {},
     "output_type": "execute_result"
    }
   ],
   "source": [
    "m = INPUT\n",
    "total = 0\n",
    "for cc in connected_components(m):\n",
    "    total += compute_cost(cc, m)\n",
    "total"
   ]
  },
  {
   "cell_type": "code",
   "execution_count": 23,
   "metadata": {},
   "outputs": [
    {
     "data": {
      "text/plain": [
       "1370100"
      ]
     },
     "execution_count": 23,
     "metadata": {},
     "output_type": "execute_result"
    }
   ],
   "source": [
    "m = INPUT\n",
    "\n",
    "G = nx.Graph()\n",
    "\n",
    "for i in range(len(m)):\n",
    "    for j in range(len(m[0])):\n",
    "        v = (i, j)\n",
    "        G.add_node(v)\n",
    "        for n in get_nbhs(v, m):\n",
    "            G.add_edge(v, n)\n",
    "\n",
    "total = 0\n",
    "for cc in nx.connected_components(G):\n",
    "    total += compute_cost(cc, m)\n",
    "total"
   ]
  },
  {
   "cell_type": "markdown",
   "metadata": {},
   "source": [
    "Part 2"
   ]
  },
  {
   "cell_type": "code",
   "execution_count": 24,
   "metadata": {},
   "outputs": [
    {
     "data": {
      "text/plain": [
       "818286"
      ]
     },
     "execution_count": 24,
     "metadata": {},
     "output_type": "execute_result"
    }
   ],
   "source": [
    "m = INPUT\n",
    "conn_comp = connected_components(m)\n",
    "total = 0\n",
    "for cc in conn_comp:\n",
    "    total += compute_cost(cc, m, p1=False)\n",
    "total"
   ]
  },
  {
   "cell_type": "code",
   "execution_count": 25,
   "metadata": {},
   "outputs": [
    {
     "data": {
      "text/plain": [
       "818286"
      ]
     },
     "execution_count": 25,
     "metadata": {},
     "output_type": "execute_result"
    }
   ],
   "source": [
    "m = INPUT\n",
    "\n",
    "G = nx.Graph()\n",
    "\n",
    "for i in range(len(m)):\n",
    "    for j in range(len(m[0])):\n",
    "        v = (i, j)\n",
    "        G.add_node(v)\n",
    "        for n in get_nbhs(v, m):\n",
    "            G.add_edge(v, n)\n",
    "\n",
    "conn_comp = nx.connected_components(G)\n",
    "\n",
    "total = 0\n",
    "for cc in conn_comp:\n",
    "    total += compute_cost(cc, m, p1=False)\n",
    "total"
   ]
  },
  {
   "cell_type": "code",
   "execution_count": null,
   "metadata": {},
   "outputs": [],
   "source": []
  }
 ],
 "metadata": {
  "kernelspec": {
   "display_name": "data_venv",
   "language": "python",
   "name": "python3"
  },
  "language_info": {
   "codemirror_mode": {
    "name": "ipython",
    "version": 3
   },
   "file_extension": ".py",
   "mimetype": "text/x-python",
   "name": "python",
   "nbconvert_exporter": "python",
   "pygments_lexer": "ipython3",
   "version": "3.12.0"
  }
 },
 "nbformat": 4,
 "nbformat_minor": 2
}
