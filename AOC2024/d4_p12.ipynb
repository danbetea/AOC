{
 "cells": [
  {
   "cell_type": "code",
   "execution_count": 26,
   "metadata": {},
   "outputs": [],
   "source": [
    "import re\n",
    "\n",
    "\n",
    "import numpy as np"
   ]
  },
  {
   "cell_type": "code",
   "execution_count": 56,
   "metadata": {},
   "outputs": [
    {
     "name": "stdout",
     "output_type": "stream",
     "text": [
      "MMMSXXMASM\n",
      "MSAMXMSMSA\n",
      "AMXSXMAAMM\n",
      "MSAMASMSMX\n",
      "XMASAMXAMM\n",
      "XXAMMXXAMA\n",
      "SMSMSASXSS\n",
      "SAXAMASAAA\n",
      "MAMMMXMMMM\n",
      "MXMXAXMASX\n"
     ]
    }
   ],
   "source": [
    "test_in = \"\"\"MMMSXXMASM\n",
    "MSAMXMSMSA\n",
    "AMXSXMAAMM\n",
    "MSAMASMSMX\n",
    "XMASAMXAMM\n",
    "XXAMMXXAMA\n",
    "SMSMSASXSS\n",
    "SAXAMASAAA\n",
    "MAMMMXMMMM\n",
    "MXMXAXMASX\"\"\"\n",
    "\n",
    "with open(\"d4_in.txt\", 'r') as f:\n",
    "    p1_in = f.readlines()\n",
    "    p1_in = [l.rstrip(\"\\n\") for l in p1_in]\n",
    "\n",
    "print(test_in)"
   ]
  },
  {
   "cell_type": "code",
   "execution_count": 57,
   "metadata": {},
   "outputs": [],
   "source": [
    "def to_char_matrix(text_lines: list[str]) -> np.ndarray:\n",
    "    mat = [list(line) for line in text_lines]\n",
    "    return np.array(mat)\n",
    "\n",
    "# functions needed for part 1\n",
    "\n",
    "def transpose_text(text_lines: list[str]) -> list[str]:\n",
    "    mat = to_char_matrix(text_lines).T.tolist()\n",
    "    return [\"\".join(line) for line in mat]\n",
    "\n",
    "def diagonals(text_lines: list[str]) -> list[str]:\n",
    "    mat = to_char_matrix(text_lines)\n",
    "    n_rows, n_cols = mat.shape\n",
    "    result = []\n",
    "    for j in range(n_cols-1, -n_rows, -1):\n",
    "        diag = mat.diagonal(j).tolist()\n",
    "        result.append(\"\".join(diag))\n",
    "    return result\n",
    "\n",
    "def anti_diagonals(text_lines: list[str]) -> list[str]:\n",
    "    mat = np.fliplr(to_char_matrix(text_lines))\n",
    "    n_rows, n_cols = mat.shape\n",
    "    result = []\n",
    "    for j in range(n_cols-1, -n_rows, -1):\n",
    "        diag = mat.diagonal(j).tolist()\n",
    "        result.append(\"\".join(diag))\n",
    "    return result\n",
    "    \n",
    "def count_in_list(text_lines: list[str]) -> int:\n",
    "    count = 0\n",
    "    p1 = re.compile(\"XMAS\")\n",
    "    p2 = re.compile(\"SAMX\")\n",
    "    for line in text_lines:\n",
    "        count_1 = len(re.findall(p1, line))\n",
    "        count_2 = len(re.findall(p2, line))\n",
    "        count += count_1 + count_2\n",
    "    return count\n",
    "\n",
    "# functions needed for part 2\n",
    "\n",
    "def is_x_mas(mat: np.ndarray) -> bool:\n",
    "    cond_1 = mat[1, 1] == 'A'\n",
    "    cond_2 = (\n",
    "        (mat[0, 0] == 'S' and mat[2, 2] == 'M')\n",
    "        or (mat[0, 0] == 'M' and mat[2, 2] == 'S')\n",
    "    )\n",
    "    cond_3 = (\n",
    "        (mat[0, 2] == 'S' and mat[2, 0] == 'M')\n",
    "        or (mat[0, 2] == 'M' and mat[2, 0] == 'S')\n",
    "    )\n",
    "    return cond_1 and cond_2 and cond_3"
   ]
  },
  {
   "cell_type": "markdown",
   "metadata": {},
   "source": [
    "Part 1"
   ]
  },
  {
   "cell_type": "code",
   "execution_count": 58,
   "metadata": {},
   "outputs": [],
   "source": [
    "# lines = test_in.split('\\n')  # for small test\n",
    "lines = p1_in\n",
    "lines_t = transpose_text(lines)\n",
    "lines_d = diagonals(lines)\n",
    "lines_ad = anti_diagonals(lines)"
   ]
  },
  {
   "cell_type": "code",
   "execution_count": 59,
   "metadata": {},
   "outputs": [
    {
     "data": {
      "text/plain": [
       "2543"
      ]
     },
     "execution_count": 59,
     "metadata": {},
     "output_type": "execute_result"
    }
   ],
   "source": [
    "count = 0\n",
    "for text_lines in [lines, lines_t, lines_d, lines_ad]:\n",
    "    count += count_in_list(text_lines)\n",
    "count"
   ]
  },
  {
   "cell_type": "markdown",
   "metadata": {},
   "source": [
    "Part 2"
   ]
  },
  {
   "cell_type": "code",
   "execution_count": null,
   "metadata": {},
   "outputs": [],
   "source": [
    "# mat = to_char_matrix(test_in.split('\\n'))  # for small test\n",
    "mat = to_char_matrix(p1_in)"
   ]
  },
  {
   "cell_type": "code",
   "execution_count": 61,
   "metadata": {},
   "outputs": [
    {
     "data": {
      "text/plain": [
       "1930"
      ]
     },
     "execution_count": 61,
     "metadata": {},
     "output_type": "execute_result"
    }
   ],
   "source": [
    "count = 0\n",
    "for i in range(mat.shape[0] - 2):\n",
    "    for j in range(mat.shape[1] - 2):\n",
    "        small_mat = mat[i:i+3, j:j+3]\n",
    "        count += is_x_mas(small_mat)\n",
    "count"
   ]
  },
  {
   "cell_type": "code",
   "execution_count": null,
   "metadata": {},
   "outputs": [],
   "source": []
  }
 ],
 "metadata": {
  "kernelspec": {
   "display_name": "data_venv",
   "language": "python",
   "name": "python3"
  },
  "language_info": {
   "codemirror_mode": {
    "name": "ipython",
    "version": 3
   },
   "file_extension": ".py",
   "mimetype": "text/x-python",
   "name": "python",
   "nbconvert_exporter": "python",
   "pygments_lexer": "ipython3",
   "version": "3.12.0"
  }
 },
 "nbformat": 4,
 "nbformat_minor": 2
}
