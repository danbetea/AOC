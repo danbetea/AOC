{
 "cells": [
  {
   "cell_type": "code",
   "execution_count": 13,
   "metadata": {},
   "outputs": [],
   "source": [
    "from itertools import combinations\n",
    "import string"
   ]
  },
  {
   "cell_type": "code",
   "execution_count": 5,
   "metadata": {},
   "outputs": [],
   "source": [
    "INPUT_TEST_ = \"\"\"............\n",
    "........0...\n",
    ".....0......\n",
    ".......0....\n",
    "....0.......\n",
    "......A.....\n",
    "............\n",
    "............\n",
    "........A...\n",
    ".........A..\n",
    "............\n",
    "............\"\"\"\n",
    "INPUT_TEST = [list(l) for l in INPUT_TEST_.split('\\n')]\n",
    "# INPUT_TEST\n",
    "\n",
    "with open('d8_in.txt', 'r') as f:\n",
    "    INPUT_ = f.read()\n",
    "INPUT = [list(l) for l in INPUT_.split('\\n')]"
   ]
  },
  {
   "cell_type": "code",
   "execution_count": null,
   "metadata": {},
   "outputs": [],
   "source": [
    "def compute_pairs(map):\n",
    "    char_map = {} \n",
    "    for i in range(len(map)):\n",
    "        for j in range(len(map[0])):\n",
    "            char = map[i][j]\n",
    "            if char in string.ascii_letters or char in string.digits:\n",
    "                if char not in char_map:\n",
    "                    char_map[char] = [(i, j)]\n",
    "                else:\n",
    "                    char_map[char].append((i, j))\n",
    "    return char_map\n",
    "\n",
    "def in_bounds(i, j, map):\n",
    "    return i >= 0 and j >= 0 and i <= len(map)-1 and j <= len(map[0])-1\n",
    "\n",
    "def compute_ant_pos_p1(p, q, map):\n",
    "    i0, j0 = p\n",
    "    i1, j1 = q\n",
    "    di = abs(i0-i1)\n",
    "    dj = abs(j0-j1)\n",
    "    if j0 <= j1:\n",
    "        if i0 <= i1:\n",
    "            pos = [(i0-di, j0-dj), (i1+di, j1+dj)]\n",
    "        else:\n",
    "            pos = [(i0+di, j0-dj), (i1-di, j1+dj)]\n",
    "    else:\n",
    "        if i0 <= i1:\n",
    "            pos = [(i0-di, j0+dj), (i1+di, j1-dj)]\n",
    "        else:\n",
    "            pos = [(i0+di, j0+dj), (i1-di, j1-dj)]\n",
    "    pos = [\n",
    "        (i, j) for (i, j) in pos\n",
    "        if in_bounds(i, j, map)\n",
    "    ]\n",
    "    return pos\n",
    "\n",
    "def compute_ant_pos_p2(p, q, map):\n",
    "    i0, j0 = p\n",
    "    i1, j1 = q\n",
    "    di = abs(i0-i1)\n",
    "    dj = abs(j0-j1)\n",
    "    nrow, ncol = len(map), len(map[0])\n",
    "    n = max(nrow, ncol)\n",
    "    if j0 <= j1:\n",
    "        if i0 <= i1:\n",
    "            pos = (\n",
    "                [(i0-k*di, j0-k*dj) for k in range(n)]\n",
    "                + [(i1+k*di, j1+k*dj) for k in range(n)]\n",
    "            )\n",
    "        else:\n",
    "            pos = (\n",
    "                [(i0+k*di, j0-k*dj) for k in range(n)]\n",
    "                + [(i1-k*di, j1+k*dj) for k in range(n)]\n",
    "            )\n",
    "    else:\n",
    "        if i0 <= i1:\n",
    "            pos = (\n",
    "                [(i0-k*di, j0+k*dj) for k in range(n)]\n",
    "                + [(i1+k*di, j1-k*dj) for k in range(n)]\n",
    "            )\n",
    "        else:\n",
    "            pos = (\n",
    "                [(i0+k*di, j0+k*dj) for k in range(n)]\n",
    "                + [(i1-k*di, j1-k*dj) for k in range(n)]\n",
    "            )\n",
    "    pos = [\n",
    "        (i, j) for (i, j) in pos\n",
    "        if in_bounds(i, j, map)\n",
    "        # and map[i][j] == '.'\n",
    "    ]\n",
    "    return pos\n",
    "\n",
    "def compute_all_ant_pos(map, p2=False):\n",
    "    compute_fn = compute_ant_pos_p2 if p2 else compute_ant_pos_p1\n",
    "    char_map = compute_pairs(map)\n",
    "    all_pos = set()\n",
    "    for k, lst in char_map.items():\n",
    "        for pos_pair in combinations(lst, r=2):\n",
    "            p, q = pos_pair\n",
    "            tmp = compute_fn(p, q, map)\n",
    "            all_pos.update(tmp)\n",
    "    return all_pos"
   ]
  },
  {
   "cell_type": "markdown",
   "metadata": {},
   "source": [
    "Part 1"
   ]
  },
  {
   "cell_type": "code",
   "execution_count": 31,
   "metadata": {},
   "outputs": [
    {
     "data": {
      "text/plain": [
       "261"
      ]
     },
     "execution_count": 31,
     "metadata": {},
     "output_type": "execute_result"
    }
   ],
   "source": [
    "all_pos = compute_all_ant_pos(INPUT, p2=False)\n",
    "len(all_pos)"
   ]
  },
  {
   "cell_type": "markdown",
   "metadata": {},
   "source": [
    "Part 2"
   ]
  },
  {
   "cell_type": "code",
   "execution_count": 30,
   "metadata": {},
   "outputs": [
    {
     "data": {
      "text/plain": [
       "898"
      ]
     },
     "execution_count": 30,
     "metadata": {},
     "output_type": "execute_result"
    }
   ],
   "source": [
    "all_pos = compute_all_ant_pos(INPUT, p2=True)\n",
    "len(all_pos)"
   ]
  }
 ],
 "metadata": {
  "kernelspec": {
   "display_name": "data_venv",
   "language": "python",
   "name": "python3"
  },
  "language_info": {
   "codemirror_mode": {
    "name": "ipython",
    "version": 3
   },
   "file_extension": ".py",
   "mimetype": "text/x-python",
   "name": "python",
   "nbconvert_exporter": "python",
   "pygments_lexer": "ipython3",
   "version": "3.12.0"
  }
 },
 "nbformat": 4,
 "nbformat_minor": 2
}
